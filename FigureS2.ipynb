{
 "cells": [
  {
   "cell_type": "markdown",
   "metadata": {},
   "source": [
    "## BC cone contact statistics for Figure S2"
   ]
  },
  {
   "cell_type": "code",
   "execution_count": 1,
   "metadata": {},
   "outputs": [],
   "source": [
    "import numpy as np\n",
    "import matplotlib\n",
    "import matplotlib.pyplot as plt\n",
    "from scipy.io import loadmat\n",
    "import pandas as pd\n",
    "import seaborn as sns\n",
    "from helpers import sns_styleset\n",
    "%matplotlib inline"
   ]
  },
  {
   "cell_type": "code",
   "execution_count": 2,
   "metadata": {},
   "outputs": [],
   "source": [
    "sns_styleset()"
   ]
  },
  {
   "cell_type": "code",
   "execution_count": 3,
   "metadata": {},
   "outputs": [],
   "source": [
    "# Load BC IDs and types\n",
    "BC_ids=np.loadtxt('./data/BC_IDs_new').astype(int)\n",
    "# Set IDs of missclassified BCs to exclude\n",
    "BC_excluded=np.array([691,709,827,836])"
   ]
  },
  {
   "cell_type": "code",
   "execution_count": 4,
   "metadata": {},
   "outputs": [],
   "source": [
    "# Load contact summary data from Behrens et al. 2016 and keep only contacts classified as synapse\n",
    "contact_summary=pd.read_csv('./data/cone_contact_predictions.csv', index_col=0)\n",
    "true_contacts=contact_summary.loc[(contact_summary['prediction']==1)]\n",
    "# Get all cone IDs\n",
    "cone_ids=np.unique(contact_summary['cone'].values)"
   ]
  },
  {
   "cell_type": "code",
   "execution_count": 5,
   "metadata": {},
   "outputs": [],
   "source": [
    "stat_bc_contacts_on=pd.DataFrame(BC_ids[(BC_ids[:,4]>=63)&(BC_ids[:,4]<=70)&np.in1d(BC_ids[:,0],BC_excluded,invert=True)][:,[0,4]],columns=['cell','type'])\n",
    "all_contact_freq_type=np.array(np.unique(true_contacts['cell'].values,return_counts=True)).T\n",
    "for i in range(stat_bc_contacts_on.shape[0]):\n",
    "    stat_bc_contacts_on.loc[i,'count']=0\n",
    "    try:\n",
    "        stat_bc_contacts_on.loc[i,'count']=all_contact_freq_type[all_contact_freq_type[:,0]==stat_bc_contacts_on.loc[i,'cell'],1]\n",
    "    except ValueError:\n",
    "        continue\n",
    "for i in range(stat_bc_contacts_on.shape[0]):\n",
    "    stat_bc_contacts_on.loc[i,'count_rounded']=np.clip((stat_bc_contacts_on.loc[i,'count']+1)//2,0,4)"
   ]
  },
  {
   "cell_type": "code",
   "execution_count": 6,
   "metadata": {},
   "outputs": [],
   "source": [
    "stat_cone_contacts_on=pd.DataFrame(np.concatenate((np.tile(cone_ids,8).reshape(-1,1),np.repeat(np.arange(63,71),cone_ids.shape[0]).reshape(-1,1)),axis=1),columns=['cone','type'])\n",
    "for i in range(stat_cone_contacts_on.shape[0]):\n",
    "    stat_cone_contacts_on.loc[i,'count']=np.sum((true_contacts['cone']==stat_cone_contacts_on.loc[i,'cone'])&\\\n",
    "                                                   (true_contacts['type']==stat_cone_contacts_on.loc[i,'type']))"
   ]
  },
  {
   "cell_type": "code",
   "execution_count": 7,
   "metadata": {},
   "outputs": [
    {
     "data": {
      "image/png": "[encoded data removed]",
      "text/plain": [
       "<Figure size 240.945x141.732 with 1 Axes>"
      ]
     },
     "metadata": {},
     "output_type": "display_data"
    }
   ],
   "source": [
    "labels = ['5T','5O','5I','X','6','7','8','9']\n",
    "plt.figure(figsize=(8.5/2.54,5/2.54),tight_layout=True)\n",
    "ax=sns.barplot(x='type',y='count',data=stat_bc_contacts_on,order=np.arange(63,71),ci=95,color='grey')\n",
    "ax.set_xticklabels(labels)\n",
    "ax.set(ylabel='# Cones per BC',ylim=(0,11),xlabel='BC types',yticks=[0,2,4,6,8,10])\n",
    "ax.spines['left'].set_position(('outward',3))\n",
    "sns.despine()\n",
    "# plt.savefig('./figures/FigS2A_On_BC_cone_contacts_per_BC.svg',dpi=300)\n",
    "plt.show()"
   ]
  },
  {
   "cell_type": "code",
   "execution_count": 8,
   "metadata": {},
   "outputs": [
    {
     "data": {
      "image/png": "[encoded data removed]",
      "text/plain": [
       "<Figure size 240.945x141.732 with 1 Axes>"
      ]
     },
     "metadata": {},
     "output_type": "display_data"
    }
   ],
   "source": [
    "labels = ['5T','5O','5I','X','6','7','8','9']\n",
    "plt.figure(figsize=(8.5/2.54,5/2.54),tight_layout=True)\n",
    "ax=sns.barplot(x='type',y='count',data=stat_cone_contacts_on,order=np.arange(63,71),ci=95,color='grey')\n",
    "ax.set_xticklabels(labels)\n",
    "ax.set(ylabel='# BCs per cone',xlabel='BC types',ylim=(0,1.6),yticks=[0,0.5,1,1.5])\n",
    "ax.spines['left'].set_position(('outward',3))\n",
    "sns.despine()\n",
    "# plt.savefig('./figures/FigS2B_On_BC_cone_contacts_per_cone.svg',dpi=300)\n",
    "plt.show()"
   ]
  }
 ],
 "metadata": {
  "kernelspec": {
   "display_name": "Python 3",
   "language": "python",
   "name": "python3"
  },
  "language_info": {
   "codemirror_mode": {
    "name": "ipython",
    "version": 3
   },
   "file_extension": ".py",
   "mimetype": "text/x-python",
   "name": "python",
   "nbconvert_exporter": "python",
   "pygments_lexer": "ipython3",
   "version": "3.8.5"
  },
  "varInspector": {
   "cols": {
    "lenName": 16,
    "lenType": 16,
    "lenVar": 40
   },
   "kernels_config": {
    "python": {
     "delete_cmd_postfix": "",
     "delete_cmd_prefix": "del ",
     "library": "var_list.py",
     "varRefreshCmd": "print(var_dic_list())"
    },
    "r": {
     "delete_cmd_postfix": ") ",
     "delete_cmd_prefix": "rm(",
     "library": "var_list.r",
     "varRefreshCmd": "cat(var_dic_list()) "
    }
   },
   "types_to_exclude": [
    "module",
    "function",
    "builtin_function_or_method",
    "instance",
    "_Feature"
   ],
   "window_display": false
  }
 },
 "nbformat": 4,
 "nbformat_minor": 1
}
