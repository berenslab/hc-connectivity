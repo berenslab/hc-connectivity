{
 "cells": [
  {
   "cell_type": "code",
   "execution_count": 1,
   "metadata": {},
   "outputs": [],
   "source": [
    "import numpy as np\n",
    "import matplotlib\n",
    "import matplotlib.pyplot as plt\n",
    "from scipy.io import loadmat\n",
    "from scipy.ndimage import morphology\n",
    "import pandas as pd\n",
    "import seaborn as sns\n",
    "from helpers import sns_styleset\n",
    "%matplotlib inline"
   ]
  },
  {
   "cell_type": "code",
   "execution_count": 2,
   "metadata": {
    "code_folding": []
   },
   "outputs": [],
   "source": [
    "sns_styleset()"
   ]
  },
  {
   "cell_type": "code",
   "execution_count": 3,
   "metadata": {},
   "outputs": [],
   "source": [
    "skeleton_data=loadmat('./data/Skeletons_HC_BC_cones.mat')\n",
    "skeleton_ids=skeleton_data['kn_allSkeletons_e2006_IDs'].flatten()\n",
    "skeletons=skeleton_data['kn_allSkeletons_e2006'].flatten()\n",
    "M=np.loadtxt('./data/coordinate_rotation')\n",
    "BC_ids=np.loadtxt('./data/BC_IDs_new').astype(int)"
   ]
  },
  {
   "cell_type": "code",
   "execution_count": 4,
   "metadata": {},
   "outputs": [],
   "source": [
    "# load cone center points, transition to nm and align the light axis\n",
    "\n",
    "cone_centers=np.loadtxt('./data/cone_means_rotated.txt')\n",
    "cone_centers[:,1:]*=[49.5,49.5,50]\n",
    "cone_boundaries=np.loadtxt('./data/cone_boundaries_rotated.txt')\n",
    "cone_boundaries[:,1:]*=49.5"
   ]
  },
  {
   "cell_type": "code",
   "execution_count": 5,
   "metadata": {},
   "outputs": [],
   "source": [
    "cell_ids=[]\n",
    "for i in range(BC_ids.shape[0]):\n",
    "    if BC_ids[i,4] in range(58,72):\n",
    "        cell_ids.append([BC_ids[i,0],BC_ids[i,4]])\n",
    "for i in skeleton_ids:\n",
    "    if (i >1900)&(i<2000):\n",
    "        cell_ids.append([i,90])\n",
    "    if (i >2000)&(i<3000):\n",
    "        cell_ids.append([i,80])\n",
    "    elif (i>3000):\n",
    "        cell_ids.append([i,84])\n",
    "cell_ids=np.array(cell_ids).astype(int)\n",
    "cone_ids=cell_ids[(cell_ids[:,1]>=80)&(cell_ids[:,1]<84)]"
   ]
  },
  {
   "cell_type": "code",
   "execution_count": 6,
   "metadata": {},
   "outputs": [],
   "source": [
    "nodes_complete=[]\n",
    "edges_complete=[]\n",
    "for i in range(len(skeleton_ids)):\n",
    "    nodes=skeletons[i].item()[list(skeletons[i].dtype.names).index('nodes')][:,:3]\n",
    "    edges=skeletons[i].item()[list(skeletons[i].dtype.names).index('edges')]\n",
    "    nodes=nodes[np.unique(edges)-1,:]\n",
    "    edge_numbers=np.unique(edges)\n",
    "    edge_mapping=np.vstack((edge_numbers,np.arange(1,edge_numbers.shape[0]+1))).T\n",
    "    edges_new=np.zeros(edges.shape)\n",
    "    for k in range(edges.shape[0]):\n",
    "        edges_new[k,0]=edge_mapping[edge_mapping[:,0]==edges[k,0],1]\n",
    "        edges_new[k,1]=edge_mapping[edge_mapping[:,0]==edges[k,1],1]\n",
    "    nodes_complete.append(nodes)\n",
    "    edges_complete.append(edges_new)"
   ]
  },
  {
   "cell_type": "code",
   "execution_count": 7,
   "metadata": {},
   "outputs": [],
   "source": [
    "contact_data=loadmat('./data/HC_BC_cones_contacts.mat')['kn_allContactData_Interfaces']\n",
    "\n",
    "contact_data_reduced=contact_data[(contact_data[:,4]>64) & (contact_data[:,4]<192) &\n",
    "                                  (contact_data[:,5]>64) & (contact_data[:,5]<192) &\n",
    "                                  (contact_data[:,6]>64) & (contact_data[:,6]<192),:]\n",
    "\n",
    "contact_data_reduced2=np.hstack((contact_data_reduced[:,:2],\n",
    "                                (contact_data_reduced[:,4]+contact_data_reduced[:,11]+64).reshape(-1,1),\\\n",
    "                                (contact_data_reduced[:,5]+contact_data_reduced[:,12]+64).reshape(-1,1),\\\n",
    "                                (contact_data_reduced[:,6]+contact_data_reduced[:,13]+64).reshape(-1,1),\\\n",
    "                                contact_data_reduced[:,14].reshape(-1,1)))\n",
    "contact_data_reduced2[:,2:5]*=[16.5,16.5,25]  # to nm\n",
    "contact_data_reduced2[:,2:5]=np.dot(M,contact_data_reduced2[:,2:5].T).T  # rotation to align the light axis"
   ]
  },
  {
   "cell_type": "code",
   "execution_count": 8,
   "metadata": {},
   "outputs": [],
   "source": [
    "# select contacts between HCs and cones with area >0\n",
    "HC_cone_contacts=contact_data_reduced2[(contact_data_reduced2[:,0]>1900)&(contact_data_reduced2[:,0]<2000)&\\\n",
    "                                       (contact_data_reduced2[:,1]>2000)&(contact_data_reduced2[:,1]<3000)]\n",
    "HC_cone_contacts=HC_cone_contacts[HC_cone_contacts[:,5]>0]\n",
    "HC_cone_contacts=pd.DataFrame(HC_cone_contacts,columns=['HC','cone','x_pos','y_pos','z_pos','area'])"
   ]
  },
  {
   "cell_type": "code",
   "execution_count": 9,
   "metadata": {},
   "outputs": [
    {
     "name": "stdout",
     "output_type": "stream",
     "text": [
      "Number of cones contacted per HC\n",
      "Mean 60.80, SD 4.54\n",
      "Min 51, max 77\n"
     ]
    }
   ],
   "source": [
    "# number of cones contacted by HCs as stated in the results section\n",
    "cones_contacted=[]\n",
    "for HC in np.unique(HC_cone_contacts['HC']):\n",
    "    if HC>1901:\n",
    "        cones_contacted.append(len(np.unique(HC_cone_contacts.loc[HC_cone_contacts['HC']==HC,'cone'])))\n",
    "np.array(cones_contacted)\n",
    "print('Number of cones contacted per HC')\n",
    "print('Mean {:.2f}, SD {:.2f}'.format(np.mean(cones_contacted),np.std(cones_contacted)/np.sqrt(len(cones_contacted)-1)))\n",
    "print('Min {}, max {}'.format(np.min(cones_contacted),np.max(cones_contacted)))"
   ]
  },
  {
   "cell_type": "code",
   "execution_count": 10,
   "metadata": {},
   "outputs": [],
   "source": [
    "#set soma positions direclty\n",
    "HC_soma=np.array([[1902.,2828.,3667.,1667.],\\\n",
    "                  [1903.,2890.,1776.,1952.],\\\n",
    "                  [1904.,2854.,4568.,1838.],\\\n",
    "                  [1905.,2991.,4261.,970.],\\\n",
    "                  [1906.,2910.,1999.,1120.]])\n",
    "HC_soma[:,1:]*=[16.5,16.5,25]\n",
    "HC_soma[:,1:]=np.dot(M,HC_soma[:,1:].T).T\n",
    "HC_soma=pd.DataFrame(HC_soma,columns=['HC','x','y','z'])"
   ]
  },
  {
   "cell_type": "code",
   "execution_count": 11,
   "metadata": {},
   "outputs": [],
   "source": [
    "HC_contacts_agg=[]\n",
    "for HC in np.unique(HC_soma['HC']):\n",
    "    for cone in np.unique(HC_cone_contacts.loc[HC_cone_contacts['HC']==HC,'cone']):\n",
    "        area=np.sum(HC_cone_contacts.loc[(HC_cone_contacts['HC']==HC)&(HC_cone_contacts['cone']==cone),'area'])\n",
    "        distance=np.linalg.norm(HC_soma.loc[HC_soma['HC']==HC,['y','z']]-cone_centers[cone_centers[:,0]==cone,2:])/1e3\n",
    "        HC_contacts_agg.append([HC,cone,area,distance])\n",
    "HC_contacts_agg=pd.DataFrame(HC_contacts_agg,columns=['HC','cone','area','distance'])"
   ]
  },
  {
   "cell_type": "code",
   "execution_count": 12,
   "metadata": {},
   "outputs": [],
   "source": [
    "tip_list=[]\n",
    "id_list=[]\n",
    "for HC in np.unique(HC_soma['HC']):\n",
    "    nodes=[]\n",
    "    edges=[]\n",
    "    for cell in np.where(skeleton_ids==HC)[0]:\n",
    "        nodes.append(nodes_complete[cell])\n",
    "        edges.append(edges_complete[cell])  \n",
    "    num_skel=len(nodes)\n",
    "    tips=np.empty((0,3))\n",
    "    for skel in range(num_skel):\n",
    "        a,c=np.unique(edges[skel],return_counts=True)\n",
    "        tips=np.concatenate((tips,nodes[skel][a[c==1].astype(int)-1]),axis=0)\n",
    "    id_list.append(HC)\n",
    "    tip_list.append(tips)"
   ]
  },
  {
   "cell_type": "code",
   "execution_count": 13,
   "metadata": {},
   "outputs": [],
   "source": [
    "cone_projections=[]\n",
    "for i in range(cone_ids.shape[0]):\n",
    "    data=np.loadtxt('./data/cone_projections/cell'+str(cone_ids[i,0]).zfill(4)+'_rot_x_complete.gz')#still false rotation\n",
    "    cone_projections.append(data)"
   ]
  },
  {
   "cell_type": "code",
   "execution_count": 14,
   "metadata": {},
   "outputs": [],
   "source": [
    "#define structure with radius 0.75µm (=15px a 50nm)\n",
    "struct=np.zeros((31,31))\n",
    "for i in range(31):\n",
    "    for j in range(31):\n",
    "        if (i-15)**2+(j-15)**2<=225:\n",
    "            struct[i,j]=1\n",
    "#define structure with radius 0.25µm (=5px a 50nm)\n",
    "struct2=np.zeros((11,11))\n",
    "for i in range(11):\n",
    "    for j in range(11):\n",
    "        if (i-5)**2+(j-5)**2<=25:\n",
    "            struct2[i,j]=1"
   ]
  },
  {
   "cell_type": "code",
   "execution_count": 15,
   "metadata": {},
   "outputs": [],
   "source": [
    "# cone_projections_reduced=[]\n",
    "cone_projections_extended=[]\n",
    "for i in range(cone_ids.shape[0]):\n",
    "    data=(cone_projections[i]).astype(int)#still have to scale it correctly\n",
    "    data_min=np.min(data,axis=0)-np.array([5,5])#added a margin of 5 for extended\n",
    "    data=data-data_min\n",
    "    data_max=np.max(data,axis=0)+np.array([5,5])\n",
    "    data_im=np.zeros(data_max+1)\n",
    "    data_im[tuple(data.astype(int).T)]=1\n",
    "    data_im=morphology.grey_opening(data_im,footprint=struct)\n",
    "#     data2=np.array(np.where(data_im==1)).T+data_min\n",
    "#     cone_projections_reduced.append(data2)#*np.array([3,2]))\n",
    "    data_im=morphology.grey_dilation(data_im,footprint=struct2)\n",
    "    data2=np.array(np.where(data_im==1)).T+data_min\n",
    "    cone_projections_extended.append(data2)#*np.array([3,2]))"
   ]
  },
  {
   "cell_type": "code",
   "execution_count": 16,
   "metadata": {},
   "outputs": [],
   "source": [
    "#draft of tip data agglomeration\n",
    "HC_tips_agg=[]\n",
    "bottom_tolerance=5#20 #20*50nm #60*16.5nm=um\n",
    "for i in range(5):\n",
    "    HC=id_list[i]\n",
    "#     tip_positions=(tip_list[i]/np.array([49.5,49.5,50])).astype(int)\n",
    "    tip_positions=(tip_list[i]/[16.5,16.5,25])\n",
    "    tip_positions=(np.dot(M,tip_positions.T).T/np.array([3,3,2])).astype(int)\n",
    "    #get rotation/scaling right, probably downscaled from original, rotated or not?\n",
    "    for cone in np.unique(HC_cone_contacts.loc[HC_cone_contacts['HC']==HC,'cone']):\n",
    "        #get (reduced?) cone area & lowest point\n",
    "        #count HC tips in the volume inside the cone\n",
    "        j=np.where(cone_ids[:,0]==cone)[0].item()\n",
    "        cone_bottom=cone_boundaries[cone_boundaries[:,0]==cone,2]/16.5/3+bottom_tolerance\n",
    "        cone_area=cone_projections_extended[j].astype(int)\n",
    "        in_area=np.where(np.in1d(np.ascontiguousarray(tip_positions[:,1:]).view(dtype='int64,int64').reshape(tip_positions.shape[0]),\\\n",
    "                  np.ascontiguousarray(cone_area).view(dtype='int64,int64').reshape(cone_area.shape[0])))[0]\n",
    "        above_bottom=np.where(tip_positions[:,0]<cone_bottom)[0]\n",
    "        count=len(np.intersect1d(in_area,above_bottom))\n",
    "        distance=np.linalg.norm(HC_soma.loc[HC_soma['HC']==HC,['y','z']]-cone_centers[cone_centers[:,0]==cone,2:])/1e3\n",
    "        HC_tips_agg.append([HC,cone,count,distance])\n",
    "HC_tips_agg=pd.DataFrame(HC_tips_agg,columns=['HC','cone','tips','distance'])"
   ]
  },
  {
   "cell_type": "code",
   "execution_count": 17,
   "metadata": {},
   "outputs": [],
   "source": [
    "HC_all_agg=pd.merge(HC_contacts_agg,HC_tips_agg, on=['HC', 'cone','distance'])"
   ]
  },
  {
   "cell_type": "code",
   "execution_count": 18,
   "metadata": {},
   "outputs": [],
   "source": [
    "HC_all_agg=HC_all_agg[HC_all_agg['tips']>0]\n",
    "HC_all_agg['area'] = HC_all_agg['area']/1e6"
   ]
  },
  {
   "cell_type": "markdown",
   "metadata": {},
   "source": [
    "## GAM, Figures 1F and 1G"
   ]
  },
  {
   "cell_type": "code",
   "execution_count": 19,
   "metadata": {},
   "outputs": [],
   "source": [
    "%load_ext rpy2.ipython"
   ]
  },
  {
   "cell_type": "code",
   "execution_count": 20,
   "metadata": {},
   "outputs": [],
   "source": [
    "import rpy2.robjects as ro\n",
    "import rpy2.robjects.packages as rpackages\n",
    "from rpy2.robjects.vectors import StrVector\n",
    "from rpy2.robjects.packages import importr\n",
    "from rpy2.robjects import r, pandas2ri\n",
    "from rpy2.robjects.conversion import localconverter\n",
    "\n",
    "pandas2ri.activate()"
   ]
  },
  {
   "cell_type": "code",
   "execution_count": 21,
   "metadata": {},
   "outputs": [],
   "source": [
    "r_data = ro.DataFrame({'HC': ro.vectors.IntVector(HC_all_agg['HC'].values.astype(int)),\n",
    "                       'distance': ro.vectors.FloatVector(HC_all_agg['distance'].values),\n",
    "                       'area': ro.vectors.FloatVector(HC_all_agg['area'].values),\n",
    "                       'tips': ro.vectors.IntVector(HC_all_agg['tips'].values.astype(int))})"
   ]
  },
  {
   "cell_type": "code",
   "execution_count": 22,
   "metadata": {},
   "outputs": [
    {
     "name": "stderr",
     "output_type": "stream",
     "text": [
      "/usr/local/lib/python3.8/dist-packages/rpy2/robjects/vectors.py:980: UserWarning: R object inheriting from \"POSIXct\" but without attribute \"tzone\".\n",
      "  warnings.warn('R object inheriting from \"POSIXct\" but without '\n"
     ]
    }
   ],
   "source": [
    "r_mgcv  = importr('mgcv')\n",
    "r_stats = importr('stats')\n",
    "r_base = importr('base')"
   ]
  },
  {
   "cell_type": "code",
   "execution_count": 23,
   "metadata": {},
   "outputs": [],
   "source": [
    "model = r_mgcv.gam(ro.Formula('tips ~ s(distance) +s(HC, bs=\"re\")'),data=r_data,family='poisson')\n",
    "r_pred=r_stats.predict(model,newdata=r_data,type = \"response\",**{'se.fit':True})\n",
    "prediction=np.array(r_pred)"
   ]
  },
  {
   "cell_type": "code",
   "execution_count": 24,
   "metadata": {},
   "outputs": [],
   "source": [
    "model2 = r_mgcv.gam(ro.Formula('area ~ s(distance) +s(HC, bs=\"re\")'),data=r_data,family='Gamma')\n",
    "r_pred2=r_stats.predict(model2,newdata=r_data,type = \"response\",**{'se.fit':True})\n",
    "prediction2=np.array(r_pred2)"
   ]
  },
  {
   "cell_type": "code",
   "execution_count": 25,
   "metadata": {},
   "outputs": [
    {
     "name": "stdout",
     "output_type": "stream",
     "text": [
      "\n",
      "Family: poisson \n",
      "Link function: log \n",
      "\n",
      "Formula:\n",
      "tips ~ s(distance) + s(HC, bs = \"re\")\n",
      "\n",
      "Parametric coefficients:\n",
      "            Estimate Std. Error z value Pr(>|z|)    \n",
      "(Intercept)  2.03645    0.03009   67.69   <2e-16 ***\n",
      "---\n",
      "Signif. codes:  0 ‘***’ 0.001 ‘**’ 0.01 ‘*’ 0.05 ‘.’ 0.1 ‘ ’ 1\n",
      "\n",
      "Approximate significance of smooth terms:\n",
      "                  edf Ref.df Chi.sq p-value    \n",
      "s(distance) 6.182e+00  7.346  457.9  <2e-16 ***\n",
      "s(HC)       5.594e-07  1.000    0.0   0.642    \n",
      "---\n",
      "Signif. codes:  0 ‘***’ 0.001 ‘**’ 0.01 ‘*’ 0.05 ‘.’ 0.1 ‘ ’ 1\n",
      "\n",
      "R-sq.(adj) =  0.336   Deviance explained = 37.5%\n",
      "UBRE = 1.8814  Scale est. = 1         n = 289\n",
      "\n"
     ]
    }
   ],
   "source": [
    "print(r_base.summary(model))"
   ]
  },
  {
   "cell_type": "code",
   "execution_count": 26,
   "metadata": {},
   "outputs": [
    {
     "name": "stdout",
     "output_type": "stream",
     "text": [
      "\n",
      "Family: Gamma \n",
      "Link function: inverse \n",
      "\n",
      "Formula:\n",
      "area ~ s(distance) + s(HC, bs = \"re\")\n",
      "\n",
      "Parametric coefficients:\n",
      "            Estimate Std. Error t value Pr(>|t|)    \n",
      "(Intercept)  0.28461    0.02225   12.79   <2e-16 ***\n",
      "---\n",
      "Signif. codes:  0 ‘***’ 0.001 ‘**’ 0.01 ‘*’ 0.05 ‘.’ 0.1 ‘ ’ 1\n",
      "\n",
      "Approximate significance of smooth terms:\n",
      "                  edf Ref.df     F  p-value    \n",
      "s(distance) 2.605e+00  3.294 10.91 6.74e-07 ***\n",
      "s(HC)       3.312e-07  1.000  0.00   0.0106 *  \n",
      "---\n",
      "Signif. codes:  0 ‘***’ 0.001 ‘**’ 0.01 ‘*’ 0.05 ‘.’ 0.1 ‘ ’ 1\n",
      "\n",
      "R-sq.(adj) =  0.158   Deviance explained = 14.6%\n",
      "GCV = 1.0196  Scale est. = 1.1847    n = 289\n",
      "\n"
     ]
    }
   ],
   "source": [
    "print(r_base.summary(model2))"
   ]
  },
  {
   "cell_type": "code",
   "execution_count": 27,
   "metadata": {},
   "outputs": [
    {
     "data": {
      "image/png": "[encoded data removed]",
      "text/plain": [
       "<Figure size 240.945x184.252 with 1 Axes>"
      ]
     },
     "metadata": {},
     "output_type": "display_data"
    }
   ],
   "source": [
    "plt.figure(figsize=(8.5/2.54,6.5/2.54),tight_layout=True)\n",
    "plt.scatter(HC_all_agg.loc[HC_all_agg['HC']==1902,'distance'],HC_all_agg.loc[HC_all_agg['HC']==1902,'tips'],s=7,label='1',c='0')\n",
    "plt.scatter(HC_all_agg.loc[HC_all_agg['HC']==1903,'distance'],HC_all_agg.loc[HC_all_agg['HC']==1903,'tips'],s=7,label='2',c='0.15')\n",
    "plt.scatter(HC_all_agg.loc[HC_all_agg['HC']==1904,'distance'],HC_all_agg.loc[HC_all_agg['HC']==1904,'tips'],s=7,label='3',c='0.30')\n",
    "plt.scatter(HC_all_agg.loc[HC_all_agg['HC']==1905,'distance'],HC_all_agg.loc[HC_all_agg['HC']==1905,'tips'],s=7,label='4',c='0.45')\n",
    "plt.scatter(HC_all_agg.loc[HC_all_agg['HC']==1906,'distance'],HC_all_agg.loc[HC_all_agg['HC']==1906,'tips'],s=7,label='5',c='0.60')\n",
    "plt.plot(np.sort(HC_all_agg['distance']),prediction[0,np.argsort(HC_all_agg['distance'])],'b')\n",
    "plt.plot(np.sort(HC_all_agg['distance']),(prediction[0,:]+2*prediction[1,:])[np.argsort(HC_all_agg['distance'])],'r--')\n",
    "plt.plot(np.sort(HC_all_agg['distance']),(prediction[0,:]-2*prediction[1,:])[np.argsort(HC_all_agg['distance'])],'r--')\n",
    "plt.xlabel('Distance from soma center [$\\it{\\mu m}$]')\n",
    "plt.ylabel('# Tips per cone')\n",
    "plt.xlim(0,60)\n",
    "plt.ylim(0,35)\n",
    "sns.despine(offset=3)\n",
    "plt.legend(title='HC',title_fontsize='9',fontsize='9',frameon=False,loc=1,bbox_to_anchor=(1.05,1.05))\n",
    "# plt.savefig('./figures/Fig1F_HC_tips_vs_distance.svg',dpi=300)\n",
    "plt.show()"
   ]
  },
  {
   "cell_type": "code",
   "execution_count": 28,
   "metadata": {},
   "outputs": [
    {
     "data": {
      "image/png": "[encoded data removed]",
      "text/plain": [
       "<Figure size 240.945x184.252 with 1 Axes>"
      ]
     },
     "metadata": {},
     "output_type": "display_data"
    }
   ],
   "source": [
    "plt.figure(figsize=(8.5/2.54,6.5/2.54),tight_layout=True)\n",
    "plt.scatter(HC_all_agg.loc[HC_all_agg['HC']==1902,'distance'],HC_all_agg.loc[HC_all_agg['HC']==1902,'area'],s=7,label='1',c='0')\n",
    "plt.scatter(HC_all_agg.loc[HC_all_agg['HC']==1903,'distance'],HC_all_agg.loc[HC_all_agg['HC']==1903,'area'],s=7,label='2',c='0.15')\n",
    "plt.scatter(HC_all_agg.loc[HC_all_agg['HC']==1904,'distance'],HC_all_agg.loc[HC_all_agg['HC']==1904,'area'],s=7,label='3',c='0.3')\n",
    "plt.scatter(HC_all_agg.loc[HC_all_agg['HC']==1905,'distance'],HC_all_agg.loc[HC_all_agg['HC']==1905,'area'],s=7,label='4',c='0.45')\n",
    "plt.scatter(HC_all_agg.loc[HC_all_agg['HC']==1906,'distance'],HC_all_agg.loc[HC_all_agg['HC']==1906,'area'],s=7,label='5',c='0.6')\n",
    "plt.plot(np.sort(HC_all_agg['distance']),prediction2[0,np.argsort(HC_all_agg['distance'])],'b')\n",
    "plt.plot(np.sort(HC_all_agg['distance']),(prediction2[0,:]+2*prediction2[1,:])[np.argsort(HC_all_agg['distance'])],'r--')\n",
    "plt.plot(np.sort(HC_all_agg['distance']),(prediction2[0,:]-2*prediction2[1,:])[np.argsort(HC_all_agg['distance'])],'r--')\n",
    "plt.xlabel('Distance from soma center [$\\it{\\mu m}$]')\n",
    "plt.ylabel('Total contact area [$\\it{\\mu m^2}$]')\n",
    "plt.xlim(0,60)\n",
    "plt.ylim(0,27)\n",
    "sns.despine(offset=3)\n",
    "# plt.savefig('./figures/Fig1G_HC_contact_area_vs_distance.svg',dpi=300)\n",
    "plt.show()"
   ]
  },
  {
   "cell_type": "markdown",
   "metadata": {},
   "source": [
    "## Figure 2E, bulb density vs. distance"
   ]
  },
  {
   "cell_type": "code",
   "execution_count": 29,
   "metadata": {},
   "outputs": [],
   "source": [
    "bulb_positions=pd.read_csv('./data/HC_bulb_contacts.csv',delimiter=';')[['HC','x','y','z']]\n",
    "bulb_positions.iloc[:,1:]=bulb_positions.iloc[:,1:]*[16.5,16.5,25]\n",
    "bulb_positions.iloc[:,1:]=np.dot(M,bulb_positions.iloc[:,1:].T).T"
   ]
  },
  {
   "cell_type": "code",
   "execution_count": 30,
   "metadata": {},
   "outputs": [],
   "source": [
    "for i in range(len(bulb_positions)):\n",
    "    bulb_positions.loc[i,'dist']=np.linalg.norm(bulb_positions.loc[i,['y','z']]-HC_soma.loc[HC_soma['HC']==bulb_positions.loc[i,'HC'],['y','z']])"
   ]
  },
  {
   "cell_type": "code",
   "execution_count": 31,
   "metadata": {},
   "outputs": [
    {
     "data": {
      "image/png": "[encoded data removed]",
      "text/plain": [
       "<Figure size 198.425x141.732 with 1 Axes>"
      ]
     },
     "metadata": {},
     "output_type": "display_data"
    }
   ],
   "source": [
    "plt.figure(figsize=(7/2.54,5/2.54),tight_layout=True)\n",
    "HC=HC_soma.loc[0,'HC']\n",
    "ax = sns.kdeplot(bulb_positions.loc[(bulb_positions['HC']==HC)&(bulb_positions['dist']<50000),'dist']/1e3,bw_method=0.3,label='HC bulbs',color='0')#str(0.15*i))\n",
    "for i in range(1,5):\n",
    "    HC=HC_soma.loc[i,'HC']\n",
    "    sns.kdeplot(bulb_positions.loc[(bulb_positions['HC']==HC)&(bulb_positions['dist']<50000),'dist']/1e3,bw_method=0.3,color='0',label='')#str(0.15*i))\n",
    "plt.plot(np.sort(HC_all_agg['distance']),prediction[0,np.argsort(HC_all_agg['distance'])]/\\\n",
    "         np.trapz(prediction[0,np.argsort(HC_all_agg['distance'])],np.sort(HC_all_agg['distance'])),color='0',ls='--',label='Tips at cones')\n",
    "plt.xlabel('Distance [$\\it{\\mu m}$]')\n",
    "plt.ylabel('Density')\n",
    "plt.xlim(0,57)\n",
    "plt.yticks([])\n",
    "plt.xticks([0,10,20,30,40,50])\n",
    "plt.legend(loc=1,frameon=False,bbox_to_anchor=(1.03,1.1))\n",
    "sns.despine(offset=3)\n",
    "# plt.savefig('./figures/Fig2E_HC_bulbs_vs_distance.svg',dpi=300)#,bbox_inches='tight',dpi=300)\n",
    "plt.show()"
   ]
  },
  {
   "cell_type": "code",
   "execution_count": null,
   "metadata": {},
   "outputs": [],
   "source": []
  }
 ],
 "metadata": {
  "kernelspec": {
   "display_name": "Python 3",
   "language": "python",
   "name": "python3"
  },
  "language_info": {
   "codemirror_mode": {
    "name": "ipython",
    "version": 3
   },
   "file_extension": ".py",
   "mimetype": "text/x-python",
   "name": "python",
   "nbconvert_exporter": "python",
   "pygments_lexer": "ipython3",
   "version": "3.8.5"
  },
  "varInspector": {
   "cols": {
    "lenName": 16,
    "lenType": 16,
    "lenVar": 40
   },
   "kernels_config": {
    "python": {
     "delete_cmd_postfix": "",
     "delete_cmd_prefix": "del ",
     "library": "var_list.py",
     "varRefreshCmd": "print(var_dic_list())"
    },
    "r": {
     "delete_cmd_postfix": ") ",
     "delete_cmd_prefix": "rm(",
     "library": "var_list.r",
     "varRefreshCmd": "cat(var_dic_list()) "
    }
   },
   "types_to_exclude": [
    "module",
    "function",
    "builtin_function_or_method",
    "instance",
    "_Feature"
   ],
   "window_display": false
  }
 },
 "nbformat": 4,
 "nbformat_minor": 2
}
