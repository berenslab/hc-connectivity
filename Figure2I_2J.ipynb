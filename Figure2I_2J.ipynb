{
 "cells": [
  {
   "cell_type": "code",
   "execution_count": 1,
   "metadata": {},
   "outputs": [],
   "source": [
    "import numpy as np\n",
    "import matplotlib\n",
    "import matplotlib.pyplot as plt\n",
    "from scipy.io import loadmat\n",
    "from scipy.spatial import ConvexHull\n",
    "from shapely.geometry import Polygon, Point\n",
    "import pandas as pd\n",
    "import seaborn as sns\n",
    "from helpers import sns_styleset\n",
    "%matplotlib inline"
   ]
  },
  {
   "cell_type": "code",
   "execution_count": 2,
   "metadata": {},
   "outputs": [],
   "source": [
    "sns_styleset()"
   ]
  },
  {
   "cell_type": "code",
   "execution_count": 3,
   "metadata": {},
   "outputs": [],
   "source": [
    "skeleton_data=loadmat('./data/Skeletons_HC_BC_cones.mat')\n",
    "M=np.loadtxt('./data/coordinate_rotation')\n",
    "BC_ids=np.loadtxt('./data/BC_IDs_new') #column 0 are BC IDs, column 4 Type IDs\n",
    "\n",
    "skeleton_ids=skeleton_data['kn_allSkeletons_e2006_IDs'].flatten()\n",
    "skeletons=skeleton_data['kn_allSkeletons_e2006'][0]\n",
    "HC_ids=skeleton_ids[(skeleton_ids>1901)&(skeleton_ids<2000)]\n",
    "\n",
    "BC_types = ['1','2','3A','3B','4','5T','5O','5I','X','6','7','8','9']\n",
    "\n",
    "#Type correspondence:\n",
    "#58 59 60 61 62 63 64 65 66 67 68 69 70 71\n",
    "#1   2 3A 3B 4  5T 5O 5I X  6  7  8  9  RBC"
   ]
  },
  {
   "cell_type": "markdown",
   "metadata": {},
   "source": [
    "#### Identify BCs that have at least ~50% overlap with the HC dendritic field"
   ]
  },
  {
   "cell_type": "code",
   "execution_count": 4,
   "metadata": {},
   "outputs": [],
   "source": [
    "#calculate mean points of BC\n",
    "BC_means=[]\n",
    "for cell in np.unique(skeleton_ids[skeleton_ids<1900]):\n",
    "    mean=[]\n",
    "    for i in np.where(skeleton_ids==cell)[0]:\n",
    "        nodes=skeletons[i].item()[list(skeletons[i].dtype.names).index('nodes')][:,:3]\n",
    "        nodes=np.dot(M,nodes.T).T\n",
    "        nodes=nodes/[16.5,16.5,25]\n",
    "        if nodes.shape[0]>1:\n",
    "            mean.append(np.mean(nodes[:,1:],axis=0))\n",
    "    mean=np.array(mean).reshape(-1,2)\n",
    "    if mean.shape[0]>0:\n",
    "        BC_means.append([cell,np.mean(mean[:,0]),np.mean(mean[:,1])])\n",
    "BC_means=np.array(BC_means)"
   ]
  },
  {
   "cell_type": "code",
   "execution_count": 5,
   "metadata": {},
   "outputs": [],
   "source": [
    "#get polygons from convex hull of HC skeletons\n",
    "polygons=[]\n",
    "for HC in HC_ids:\n",
    "    i=np.where(skeleton_ids==HC)[0].item()\n",
    "    nodes=skeletons[i].item()[list(skeletons[i].dtype.names).index('nodes')][:,:3]\n",
    "    nodes=np.dot(M,nodes.T).T\n",
    "    nodes=nodes/[16.5,16.5,25]\n",
    "    hull=ConvexHull(nodes[:,1:])\n",
    "    polygons.append(Polygon(nodes[hull.vertices,1:])) "
   ]
  },
  {
   "cell_type": "code",
   "execution_count": 6,
   "metadata": {},
   "outputs": [],
   "source": [
    "#create a list of BC with mean outside of HC convex hulls\n",
    "BC_excluded=[]\n",
    "for i in range(BC_ids.shape[0]):\n",
    "    inside=False\n",
    "    for j in range(len(polygons)):\n",
    "        if polygons[j].contains(Point(BC_means[i,1:])):\n",
    "            inside=True\n",
    "    if not inside:\n",
    "        BC_excluded.append(BC_ids[i,0])"
   ]
  },
  {
   "cell_type": "markdown",
   "metadata": {},
   "source": [
    "### Create Dataframe with contacts from all HC, columns HC, contact ID"
   ]
  },
  {
   "cell_type": "code",
   "execution_count": 7,
   "metadata": {},
   "outputs": [],
   "source": [
    "bulb_data=pd.read_csv('./data/HC_bulb_contacts.csv',delimiter=';')"
   ]
  },
  {
   "cell_type": "code",
   "execution_count": 8,
   "metadata": {},
   "outputs": [
    {
     "name": "stdout",
     "output_type": "stream",
     "text": [
      "Number of bulbs: 545\n",
      "With identified contacts: 355\n",
      "With BC contacts: 288\n",
      "With HC contacts: 136\n"
     ]
    }
   ],
   "source": [
    "print('Number of bulbs:', len(bulb_data))\n",
    "print('With identified contacts:', len(bulb_data[~np.isnan(bulb_data['cell1'])]))\n",
    "print('With BC contacts:',len(bulb_data[(bulb_data['cell1']<1900)|(bulb_data['cell2']<1900)|(bulb_data['cell3']<1900)]))\n",
    "print('With HC contacts:',len(bulb_data[(bulb_data['cell1']>1900)|(bulb_data['cell2']>1900)|(bulb_data['cell3']>1900)]))"
   ]
  },
  {
   "cell_type": "code",
   "execution_count": 9,
   "metadata": {},
   "outputs": [],
   "source": [
    "all_contacts=bulb_data[['HC','cell1','cell2','cell3']].melt(id_vars=['HC'],value_name='contacted').drop(['variable'],1)\n",
    "all_contacts=all_contacts[all_contacts['contacted']<2000]\n",
    "all_contacts=all_contacts.dropna(axis=0).reset_index().drop('index',1)\n"
   ]
  },
  {
   "cell_type": "code",
   "execution_count": 10,
   "metadata": {},
   "outputs": [],
   "source": [
    "all_contacts['type']=80\n",
    "for i in range(all_contacts.shape[0]):\n",
    "    try:\n",
    "        all_contacts.loc[i,'type']=BC_ids[BC_ids[:,0]==all_contacts.loc[i,'contacted'],4].item()\n",
    "    except ValueError:\n",
    "        continue"
   ]
  },
  {
   "cell_type": "code",
   "execution_count": 11,
   "metadata": {},
   "outputs": [],
   "source": [
    "stat_HC_contacts = pd.DataFrame({1902: np.zeros(13),1903:np.zeros(13),1904:np.zeros(13),\n",
    "                                 1905:np.zeros(13),1906:np.zeros(13),})\n",
    "stat_HC_contacts.index = np.arange(58,71)\n",
    "for key in stat_HC_contacts:\n",
    "    idx,count = np.unique(all_contacts[all_contacts['HC']==key]['type'],return_counts=True)\n",
    "    for i in range(len(count)):\n",
    "        stat_HC_contacts[key][idx[i]] = count[i]"
   ]
  },
  {
   "cell_type": "code",
   "execution_count": 12,
   "metadata": {},
   "outputs": [],
   "source": [
    "contact_count=all_contacts.groupby(by=['contacted','type'],as_index=False).count()"
   ]
  },
  {
   "cell_type": "code",
   "execution_count": 13,
   "metadata": {},
   "outputs": [],
   "source": [
    "stat_BC_contacts=pd.DataFrame(BC_ids[np.in1d(BC_ids[:,0],BC_excluded,invert=True)][:,[0,4]],columns=['BC','type'])\n",
    "stat_BC_contacts['count']=0\n",
    "for i in range(contact_count.shape[0]):\n",
    "    stat_BC_contacts.loc[stat_BC_contacts['BC']==contact_count.loc[i,'contacted'],'count']=contact_count.loc[i,'HC']"
   ]
  },
  {
   "cell_type": "code",
   "execution_count": 14,
   "metadata": {},
   "outputs": [
    {
     "data": {
      "image/png": "[encoded data removed]",
      "text/plain": [
       "<Figure size 226.772x141.732 with 1 Axes>"
      ]
     },
     "metadata": {},
     "output_type": "display_data"
    }
   ],
   "source": [
    "plt.figure(figsize=(8/2.54,5/2.54),tight_layout=True)\n",
    "ax=sns.barplot(data=stat_HC_contacts.T,color='grey')\n",
    "sns.despine()\n",
    "ax.spines['left'].set_position(('outward',3))\n",
    "ax.set(xticklabels=BC_types,\\\n",
    "       xlabel='BC types',ylabel='# BCs per HC at bulb',yticks=[0,5,10,15])\n",
    "# plt.savefig('./figures/Fig2I_BC_bulb_contacts_HC.svg',dpi=300)\n",
    "plt.show()"
   ]
  },
  {
   "cell_type": "code",
   "execution_count": 15,
   "metadata": {},
   "outputs": [
    {
     "data": {
      "image/png": "[encoded data removed]",
      "text/plain": [
       "<Figure size 226.772x141.732 with 1 Axes>"
      ]
     },
     "metadata": {},
     "output_type": "display_data"
    }
   ],
   "source": [
    "plt.figure(figsize=(8/2.54,5/2.54),tight_layout=True)\n",
    "ax=sns.barplot(data=stat_BC_contacts[stat_BC_contacts['type']<71],x='type',y='count',ci=95,color='grey')\n",
    "ax.spines['left'].set_position(('outward',3))\n",
    "sns.despine()\n",
    "ax.set(xticklabels=BC_types,xlabel='BC types',ylabel='# HC bulb contacts per BC')\n",
    "# plt.savefig('./figures/Fig2J_BC_bulb_contacts_BC.svg',dpi=300)\n",
    "plt.show()"
   ]
  },
  {
   "cell_type": "code",
   "execution_count": null,
   "metadata": {},
   "outputs": [],
   "source": []
  }
 ],
 "metadata": {
  "anaconda-cloud": {},
  "kernelspec": {
   "display_name": "Python 3",
   "language": "python",
   "name": "python3"
  },
  "language_info": {
   "codemirror_mode": {
    "name": "ipython",
    "version": 3
   },
   "file_extension": ".py",
   "mimetype": "text/x-python",
   "name": "python",
   "nbconvert_exporter": "python",
   "pygments_lexer": "ipython3",
   "version": "3.8.5"
  },
  "varInspector": {
   "cols": {
    "lenName": 16,
    "lenType": 16,
    "lenVar": 40
   },
   "kernels_config": {
    "python": {
     "delete_cmd_postfix": "",
     "delete_cmd_prefix": "del ",
     "library": "var_list.py",
     "varRefreshCmd": "print(var_dic_list())"
    },
    "r": {
     "delete_cmd_postfix": ") ",
     "delete_cmd_prefix": "rm(",
     "library": "var_list.r",
     "varRefreshCmd": "cat(var_dic_list()) "
    }
   },
   "types_to_exclude": [
    "module",
    "function",
    "builtin_function_or_method",
    "instance",
    "_Feature"
   ],
   "window_display": false
  }
 },
 "nbformat": 4,
 "nbformat_minor": 4
}
