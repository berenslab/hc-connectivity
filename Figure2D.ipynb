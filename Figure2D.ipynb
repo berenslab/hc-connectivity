{
 "cells": [
  {
   "cell_type": "code",
   "execution_count": 1,
   "metadata": {},
   "outputs": [],
   "source": [
    "import numpy as np\n",
    "import matplotlib\n",
    "import matplotlib.pyplot as plt\n",
    "from scipy.io import loadmat\n",
    "import pandas as pd\n",
    "import seaborn as sns\n",
    "import pandas as pd\n",
    "from helpers import sns_styleset\n",
    "%matplotlib inline"
   ]
  },
  {
   "cell_type": "code",
   "execution_count": 2,
   "metadata": {},
   "outputs": [],
   "source": [
    "sns_styleset()"
   ]
  },
  {
   "cell_type": "code",
   "execution_count": 3,
   "metadata": {},
   "outputs": [],
   "source": [
    "skeleton_data=loadmat('./data/Skeletons_HC_BC_cones.mat')\n",
    "skeleton_ids=skeleton_data['kn_allSkeletons_e2006_IDs'].flatten()\n",
    "skeletons=skeleton_data['kn_allSkeletons_e2006'].flatten()\n",
    "M=np.loadtxt('./data/coordinate_rotation')\n",
    "BC_ids=np.loadtxt('./data/BC_IDs_new').astype(int)"
   ]
  },
  {
   "cell_type": "code",
   "execution_count": 4,
   "metadata": {},
   "outputs": [],
   "source": [
    "#Load contact data and select contacts between HCs and cones\n",
    "contact_data=loadmat('./data/HC_BC_cones_contacts.mat')['kn_allContactData_Interfaces']\n",
    "\n",
    "contact_data_reduced=contact_data[(contact_data[:,4]>64) & (contact_data[:,4]<192) &\n",
    "                                  (contact_data[:,5]>64) & (contact_data[:,5]<192) &\n",
    "                                  (contact_data[:,6]>64) & (contact_data[:,6]<192),:]\n",
    "\n",
    "contact_data_reduced2=np.hstack((contact_data_reduced[:,:2],\n",
    "                                (contact_data_reduced[:,4]+contact_data_reduced[:,11]+64).reshape(-1,1),\\\n",
    "                                (contact_data_reduced[:,5]+contact_data_reduced[:,12]+64).reshape(-1,1),\\\n",
    "                                (contact_data_reduced[:,6]+contact_data_reduced[:,13]+64).reshape(-1,1)))\n",
    "                                \n",
    "contact_data_HC_cones=contact_data_reduced2[(contact_data_reduced2[:,0]>1900)&\\\n",
    "                                            (contact_data_reduced2[:,0]<2000)&(contact_data_reduced2[:,1]>2000)]\n",
    "contact_data_HC_cones[:,2:]*=[16.5,16.5,25]  # to nm\n",
    "contact_data_HC_cones[:,2:]=np.dot(M,contact_data_HC_cones[:,2:].T).T  # rotation to align the light axis"
   ]
  },
  {
   "cell_type": "code",
   "execution_count": 5,
   "metadata": {},
   "outputs": [],
   "source": [
    "# load upper and lower bounds of cone axon terminals\n",
    "cone_bounds=np.loadtxt('./data/cone_boundaries_rotated.txt')\n",
    "cone_bounds[:,1:]*=50"
   ]
  },
  {
   "cell_type": "code",
   "execution_count": 6,
   "metadata": {},
   "outputs": [],
   "source": [
    "# load bulb data\n",
    "bulb_positions=pd.read_csv('./data/HC_bulb_contacts.csv',delimiter=';')[['HC','x','y','z']]\n",
    "bulb_positions.iloc[:,1:]=bulb_positions.iloc[:,1:]*[16.5,16.5,25]\n",
    "bulb_positions.iloc[:,1:]=np.dot(M,bulb_positions.iloc[:,1:].T).T"
   ]
  },
  {
   "cell_type": "code",
   "execution_count": 7,
   "metadata": {},
   "outputs": [
    {
     "data": {
      "image/png": "[encoded data removed]",
      "text/plain": [
       "<Figure size 141.732x170.079 with 1 Axes>"
      ]
     },
     "metadata": {},
     "output_type": "display_data"
    }
   ],
   "source": [
    "plt.figure(figsize=(5/2.54,6/2.54), tight_layout = True)\n",
    "ax=sns.kdeplot(y=(contact_data_HC_cones[:,2]-np.mean(cone_bounds[:,2]))/1000,c=(0,0.68,0.68),label='HC cone contacts')\n",
    "sns.kdeplot(y=(bulb_positions.iloc[:,1].values-np.mean(cone_bounds[:,2]))/1000,c=(0.5,0.3,0.5),label='HC bulbs')\n",
    "plt.axhline(y=0,linestyle='dashed',c='grey',label='Cone baseline')\n",
    "ax.spines['bottom'].set_position(('outward',3))\n",
    "sns.despine()\n",
    "plt.xticks([0])\n",
    "plt.yticks([-5,0,5,10])\n",
    "plt.ylim(11,-7)\n",
    "plt.legend(loc='lower left',bbox_to_anchor=(0.1,-0.05),frameon=False)\n",
    "plt.ylabel('Depth [$\\mu m$]')\n",
    "plt.xlabel('Density')\n",
    "# plt.savefig('./figures/Fig2D_bulb_vs_cone_contacts.svg',dpi=300)\n",
    "plt.show()"
   ]
  },
  {
   "cell_type": "code",
   "execution_count": null,
   "metadata": {},
   "outputs": [],
   "source": []
  }
 ],
 "metadata": {
  "kernelspec": {
   "display_name": "Python 3",
   "language": "python",
   "name": "python3"
  },
  "language_info": {
   "codemirror_mode": {
    "name": "ipython",
    "version": 3
   },
   "file_extension": ".py",
   "mimetype": "text/x-python",
   "name": "python",
   "nbconvert_exporter": "python",
   "pygments_lexer": "ipython3",
   "version": "3.8.5"
  },
  "varInspector": {
   "cols": {
    "lenName": 16,
    "lenType": 16,
    "lenVar": 40
   },
   "kernels_config": {
    "python": {
     "delete_cmd_postfix": "",
     "delete_cmd_prefix": "del ",
     "library": "var_list.py",
     "varRefreshCmd": "print(var_dic_list())"
    },
    "r": {
     "delete_cmd_postfix": ") ",
     "delete_cmd_prefix": "rm(",
     "library": "var_list.r",
     "varRefreshCmd": "cat(var_dic_list()) "
    }
   },
   "types_to_exclude": [
    "module",
    "function",
    "builtin_function_or_method",
    "instance",
    "_Feature"
   ],
   "window_display": false
  }
 },
 "nbformat": 4,
 "nbformat_minor": 1
}
