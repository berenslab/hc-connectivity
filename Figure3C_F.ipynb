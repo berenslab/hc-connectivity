{
 "cells": [
  {
   "cell_type": "code",
   "execution_count": 1,
   "metadata": {},
   "outputs": [],
   "source": [
    "import numpy as np\n",
    "from scipy.spatial.distance import pdist, squareform\n",
    "from sklearn.neighbors import KernelDensity\n",
    "from scipy.io import loadmat\n",
    "import matplotlib.pyplot as plt\n",
    "import matplotlib\n",
    "import seaborn as sns\n",
    "import pandas as pd\n",
    "import networkx as nx\n",
    "from multiprocessing import Pool\n",
    "from mpl_toolkits.axes_grid1.inset_locator import inset_axes\n",
    "from helpers import sns_styleset\n",
    "%matplotlib inline"
   ]
  },
  {
   "cell_type": "code",
   "execution_count": 2,
   "metadata": {},
   "outputs": [],
   "source": [
    "sns_styleset()"
   ]
  },
  {
   "cell_type": "code",
   "execution_count": 3,
   "metadata": {},
   "outputs": [],
   "source": [
    "# load HC morphologies\n",
    "swc_list=[]\n",
    "for HC in [1902,1903,1904,1905,1906]:\n",
    "    swc=np.loadtxt('./data/HC_swc/HC'+str(HC)+'.swc')\n",
    "    swc=pd.DataFrame(swc,columns=['node','type','x','y','z','r','parent'])\n",
    "    swc_list.append(swc)"
   ]
  },
  {
   "cell_type": "code",
   "execution_count": 4,
   "metadata": {},
   "outputs": [],
   "source": [
    "M=np.loadtxt('./data/coordinate_rotation')"
   ]
  },
  {
   "cell_type": "code",
   "execution_count": 5,
   "metadata": {},
   "outputs": [],
   "source": [
    "for j in range(len(swc_list)):\n",
    "    swc_list[j].loc[0,'par_dist']=0\n",
    "    for i in range(1,len(swc_list[j])):\n",
    "        swc_list[j].loc[i,'par_dist']=np.sqrt((swc_list[j].loc[i,'x']-swc_list[j].loc[swc_list[j].loc[i,'parent']-1,'x'])**2+\\\n",
    "                                         (swc_list[j].loc[i,'y']-swc_list[j].loc[swc_list[j].loc[i,'parent']-1,'y'])**2+\\\n",
    "                                         (swc_list[j].loc[i,'z']-swc_list[j].loc[swc_list[j].loc[i,'parent']-1,'z'])**2)"
   ]
  },
  {
   "cell_type": "code",
   "execution_count": 6,
   "metadata": {},
   "outputs": [],
   "source": [
    "HC_list=[1902,1903,1904,1905,1906]\n",
    "#minimum and sizes of image stacks\n",
    "min_list=([818, 198, -62],[832, -6, -52],[863,  45, 108],[846, 375, -58],[834,  -9, -61])\n",
    "size_list=([ 435, 1957, 1497],[ 393, 1351, 1490],[ 378, 2076, 1328],[ 359, 1904, 1252],[ 346, 1324, 1313])"
   ]
  },
  {
   "cell_type": "code",
   "execution_count": 7,
   "metadata": {},
   "outputs": [],
   "source": [
    "# create a graph from swx data using networkX\n",
    "def get_graph(swc):\n",
    "\n",
    "    n = swc['node'].values \n",
    "    scaling = 1 # scaling to get from current coordinates into microns.\n",
    "\n",
    "    pos = np.array([swc['x'].values, swc['y'].values, swc['z'].values]).T / scaling\n",
    "\n",
    "    radius = swc['r'].values / scaling # radius of the node. Optional\n",
    "\n",
    "    t = swc['type'].values  # type of the neuron part: 1: soma, 2: axon, 3: dendrite, Optional\n",
    "\n",
    "    pid = swc['parent'].values\n",
    "\n",
    "\n",
    "    # create node data (Kick whatever info you don't need)\n",
    "    node_keys = ['pos', 'type', 'r']\n",
    "    node_data = list(zip(n, [dict(zip(node_keys, [pos[ix], t[ix], radius[ix]])) for ix in range(pos.shape[0])]))\n",
    "\n",
    "    # create edge data\n",
    "    n_ = n.tolist()\n",
    "    parent_idx = [n_.index(pid[ix]) for ix in range(1,len(pid))]\n",
    "    ec = np.sqrt(np.sum((pos[parent_idx] - pos[1:]) ** 2, axis=1)) # euclidean distance btw two connected nodes\n",
    "    edge_keys = ['euclidean_dist']\n",
    "\n",
    "    edge_data = list(zip(pid[1:], n[1:],\n",
    "                         [dict(zip(edge_keys, [ec[ix]])) for ix in range(ec.shape[0])]))\n",
    "\n",
    "    G = nx.Graph()\n",
    "    G.add_nodes_from(node_data)\n",
    "    G.add_edges_from(edge_data)\n",
    "    return G\n",
    "\n",
    "def get_tips(G):\n",
    "    return np.array([e for e in G if [f for f in G[e] if f>e]==[]])\n",
    "\n",
    "def get_tip_dist(i,j,tip):\n",
    "    return nx.shortest_path_length(graphs[i],tip,swc_list[i].loc[j,'node'], weight='euclidean_dist')"
   ]
  },
  {
   "cell_type": "code",
   "execution_count": 8,
   "metadata": {},
   "outputs": [],
   "source": [
    "def get_rad(node,dist_thresh,k):\n",
    "    rad_list=[[0,swc_list[k].loc[node-1,'r']]]\n",
    "    \n",
    "    \n",
    "    def get_rad_p(node,dist_p,rad_list):\n",
    "        p_node=swc_list[k].loc[node-1,'parent']\n",
    "        dist_p+=swc_list[k].loc[node-1,'par_dist']\n",
    "        rad_list=[[-dist_p,swc_list[k].loc[p_node-1,'r']]]+rad_list\n",
    "        if (dist_p<dist_thresh)&(p_node>1):\n",
    "            rad_list=get_rad_p(p_node,dist_p,rad_list)\n",
    "        return(rad_list)\n",
    "            \n",
    "    def get_rad_c(node,dist_c,rad_list):\n",
    "        children=swc_list[k][swc_list[k]['parent']==node]['node'].values\n",
    "        if len(children)>0:\n",
    "            c_rads=[]\n",
    "            for c_node in children:\n",
    "                c_rads.append(swc_list[k].loc[c_node-1,'r'])\n",
    "            c_node=children[np.argmax(c_rads)]\n",
    "        \n",
    "            dist_c+=swc_list[k].loc[c_node-1,'par_dist']\n",
    "            rad_list=rad_list+[[dist_c,swc_list[k].loc[c_node-1,'r']]]\n",
    "            if (dist_c<dist_thresh):\n",
    "                rad_list=get_rad_c(c_node,dist_c,rad_list)\n",
    "        return(rad_list)\n",
    "    \n",
    "    rad_list=get_rad_p(node,0,rad_list)\n",
    "    rad_list=get_rad_c(node,0,rad_list)\n",
    "                \n",
    "    return(np.array(rad_list))"
   ]
  },
  {
   "cell_type": "code",
   "execution_count": 9,
   "metadata": {},
   "outputs": [],
   "source": [
    "graphs=[]\n",
    "for skel in swc_list:\n",
    "    graphs+=[get_graph(skel)]"
   ]
  },
  {
   "cell_type": "code",
   "execution_count": 10,
   "metadata": {},
   "outputs": [],
   "source": [
    "tips=[]\n",
    "for graph in graphs:\n",
    "    tips+=[get_tips(graph)]"
   ]
  },
  {
   "cell_type": "code",
   "execution_count": 11,
   "metadata": {},
   "outputs": [],
   "source": [
    "for i in range(len(swc_list)):\n",
    "    for j in range(len(swc_list[i])):\n",
    "        swc_list[i].loc[j,'soma_dist']=nx.shortest_path_length(graphs[i],1,swc_list[i].loc[j,'node'], weight='euclidean_dist')"
   ]
  },
  {
   "cell_type": "code",
   "execution_count": 12,
   "metadata": {},
   "outputs": [],
   "source": [
    "# This takes long, set number of CPU cores for Pool according to your resources (here 32)\n",
    "with Pool(32) as p:\n",
    "    for i in range(len(swc_list)):\n",
    "        for j in range(len(swc_list[i])):\n",
    "            swc_list[i].loc[j,'tip_dist']=min(p.starmap(get_tip_dist,list(zip(i*np.ones(len(tips[i])).astype(int),j*np.ones(len(tips[i])).astype(int),tips[i]))))"
   ]
  },
  {
   "cell_type": "code",
   "execution_count": 13,
   "metadata": {},
   "outputs": [],
   "source": [
    "bulb_positions=pd.read_csv('./data/HC_bulb_contacts.csv',delimiter=';')[['HC','x','y','z']]\n",
    "\n",
    "bulb_list=[]\n",
    "for i in range(5):\n",
    "    bulbs = np.dot(M,(bulb_positions[bulb_positions['HC']==HC_list[i]][['x','y','z']].values/[3,3,2]).T).T\n",
    "    #to match bulb positions the offset of the image stacks is needed\n",
    "    bulbs-=min_list[i] # minimum from image stack\n",
    "    bulb_df=pd.DataFrame(bulbs,columns=['x','y','z'])\n",
    "    #size of image stack: [ 378, 2076, 1328]\n",
    "    bulb_df['x_new']=bulb_df['z']\n",
    "    bulb_df['y_new']=size_list[i][1]-bulb_df['y']\n",
    "    bulb_df['z_new']=bulb_df['x']\n",
    "    for j in range(len(bulb_df)):\n",
    "        bulb_df.loc[j,'nearest_node']=np.argmin(np.linalg.norm(swc_list[i][['x','y','z']].values-bulb_df.loc[j,['x_new','y_new','z_new']].values,axis=1))+1\n",
    "        bulb_df.loc[j,'node_distance']=np.min(np.linalg.norm(swc_list[i][['x','y','z']].values-bulb_df.loc[j,['x_new','y_new','z_new']].values,axis=1))\n",
    "    bulb_list.append(bulb_df)"
   ]
  },
  {
   "cell_type": "code",
   "execution_count": 14,
   "metadata": {},
   "outputs": [],
   "source": [
    "# This takes long, set number of CPU cores for Pool according to your resources (here 32)\n",
    "with Pool(32) as p:\n",
    "    for i in range(len(swc_list)):\n",
    "        bulbs_cell=bulb_list[i]['nearest_node'].values.astype(int)\n",
    "        for j in range(len(swc_list[i])):\n",
    "            distances=np.array(p.starmap(get_tip_dist,list(zip(i*np.ones(len(bulbs_cell)).astype(int),j*np.ones(len(bulbs_cell)).astype(int),bulbs_cell))))\n",
    "            distances=distances[distances>0]\n",
    "            swc_list[i].loc[j,'bulb_dist']=min(distances)"
   ]
  },
  {
   "cell_type": "code",
   "execution_count": 15,
   "metadata": {},
   "outputs": [],
   "source": [
    "np.random.seed(1234)\n",
    "random_nodes = []\n",
    "for i in range(len(bulb_list)):\n",
    "    random_nodes.append(swc_list[i].iloc[np.random.choice(len(swc_list[i]), len(bulb_list[i]),replace=False),:])"
   ]
  },
  {
   "cell_type": "code",
   "execution_count": 16,
   "metadata": {},
   "outputs": [],
   "source": [
    "# This takes long, set number of CPU cores for Pool according to your resources (here 32)\n",
    "with Pool(32) as p:\n",
    "    for i in range(len(swc_list)):\n",
    "        randoms_cell=random_nodes[i]['node'].values.astype(int)\n",
    "        for j in range(len(swc_list[i])):\n",
    "            distances=np.array(p.starmap(get_tip_dist,list(zip(i*np.ones(len(randoms_cell)).astype(int),j*np.ones(len(randoms_cell)).astype(int),randoms_cell))))\n",
    "            distances=distances[distances>0]\n",
    "            swc_list[i].loc[j,'random_dist']=min(distances)"
   ]
  },
  {
   "cell_type": "markdown",
   "metadata": {},
   "source": [
    "### Figure 3C"
   ]
  },
  {
   "cell_type": "code",
   "execution_count": 17,
   "metadata": {},
   "outputs": [],
   "source": [
    "bulb_soma_dist=[]\n",
    "bulb_tip_dist=[]\n",
    "for k in range(len(swc_list)):\n",
    "    bulb_soma_dist_cell=[]\n",
    "    bulb_tip_dist_cell=[]\n",
    "    for i in range(len(bulb_list[k])):\n",
    "        bulb_soma_dist_cell.append(swc_list[k][swc_list[k]['node']==bulb_list[k].loc[i,'nearest_node']]['soma_dist'].item())\n",
    "        bulb_tip_dist_cell.append(swc_list[k][swc_list[k]['node']==bulb_list[k].loc[i,'nearest_node']]['tip_dist'].item())\n",
    "    bulb_soma_dist.append(np.array(bulb_soma_dist_cell))\n",
    "    bulb_tip_dist.append(np.array(bulb_tip_dist_cell))   "
   ]
  },
  {
   "cell_type": "code",
   "execution_count": 18,
   "metadata": {},
   "outputs": [],
   "source": [
    "all_soma_dist=[]\n",
    "all_tip_dist=[]\n",
    "for k in range(len(swc_list)):\n",
    "    all_soma_dist.append(np.array(swc_list[k]['soma_dist']))\n",
    "    all_tip_dist.append(np.array(swc_list[k]['tip_dist']))"
   ]
  },
  {
   "cell_type": "code",
   "execution_count": 19,
   "metadata": {},
   "outputs": [],
   "source": [
    "bulb_kde=[]\n",
    "all_kde=[]\n",
    "for k in range(len(swc_list)):\n",
    "    bulb_kde.append(KernelDensity(kernel='epanechnikov',bandwidth=100).fit(np.vstack((bulb_soma_dist[k],bulb_tip_dist[k])).T))\n",
    "    all_kde.append(KernelDensity(kernel='epanechnikov',bandwidth=100).fit(np.vstack((all_soma_dist[k],all_tip_dist[k])).T))"
   ]
  },
  {
   "cell_type": "code",
   "execution_count": 20,
   "metadata": {},
   "outputs": [],
   "source": [
    "avg_nodes=[]\n",
    "for k in range(len(swc_list)):\n",
    "    num_samples=len(bulb_soma_dist[k])\n",
    "    nodes=[]\n",
    "    while True:\n",
    "        ind=np.random.randint(len(swc_list[k]))\n",
    "        p=np.random.rand()\n",
    "        prob=np.exp(bulb_kde[k].score_samples(np.array(swc_list[k].loc[ind,['soma_dist','tip_dist']]).reshape(1,-1)))/(2*np.exp(all_kde[k].score_samples(np.array(swc_list[k].loc[ind,['soma_dist','tip_dist']]).reshape(1,-1))))\n",
    "        if p<prob:\n",
    "            nodes.append(swc_list[k].loc[ind,'node'])\n",
    "        if len(nodes)>=5*num_samples:\n",
    "            break\n",
    "    avg_nodes.append(nodes)"
   ]
  },
  {
   "cell_type": "code",
   "execution_count": 21,
   "metadata": {},
   "outputs": [],
   "source": [
    "bulb_profiles=[]\n",
    "for k in range(len(swc_list)):\n",
    "    bulb_profile=[]\n",
    "    for i in range(len(bulb_list[k])):\n",
    "        if bulb_list[k].loc[1,'node_distance']<20:\n",
    "            bulb_profile.append(get_rad(bulb_list[k].loc[i,'nearest_node'],50,k))\n",
    "    bulb_profiles.append(bulb_profile)"
   ]
  },
  {
   "cell_type": "code",
   "execution_count": 22,
   "metadata": {},
   "outputs": [],
   "source": [
    "bulb_profiles_agg=[]\n",
    "for k in range(len(swc_list)):\n",
    "    bulb_profile_agg=[]\n",
    "    for i in range(len(bulb_profiles[k])):\n",
    "        if bulb_profiles[k][i].shape[0]==13:\n",
    "            bulb_profile_agg.append(bulb_profiles[k][i][:,1])\n",
    "    bulb_profile_agg=np.array(bulb_profile_agg)\n",
    "    bulb_profile_agg=pd.DataFrame(bulb_profile_agg,columns=[-60,-50,-40,-30,-20,-10,0,10,20,30,40,50,60])\n",
    "    bulb_profile_agg['cell']=HC_list[k]\n",
    "    bulb_profile_agg['cell label']='HC '+str(k+1)+', bulbs'\n",
    "    bulb_profile_agg['group']='bulb'\n",
    "    bulb_profiles_agg.append(bulb_profile_agg)"
   ]
  },
  {
   "cell_type": "code",
   "execution_count": 23,
   "metadata": {},
   "outputs": [],
   "source": [
    "avg_profiles=[]\n",
    "for k in range(len(swc_list)):\n",
    "    avg_profile=[]\n",
    "    for node in avg_nodes[k]:\n",
    "        current_profile=get_rad(node,50,k)\n",
    "        if len(current_profile)==13:\n",
    "            avg_profile.append(current_profile[:,1])\n",
    "    avg_profile_agg=np.array(avg_profile)\n",
    "    avg_profile=pd.DataFrame(np.array(avg_profile),columns=[-60,-50,-40,-30,-20,-10,0,10,20,30,40,50,60])\n",
    "    avg_profile['cell']=HC_list[k]\n",
    "    avg_profile['cell label']='HC '+str(k+1)+', random nodes'\n",
    "    avg_profile['group']='random'\n",
    "    avg_profiles.append(avg_profile)"
   ]
  },
  {
   "cell_type": "code",
   "execution_count": 24,
   "metadata": {},
   "outputs": [],
   "source": [
    "bulb_profiles_df=pd.concat(bulb_profiles_agg)\n",
    "avg_profiles_df=pd.concat(avg_profiles)\n",
    "all_profiles=pd.concat([bulb_profiles_df,avg_profiles_df])\n",
    "all_profiles_long=all_profiles.melt(id_vars=['cell','cell label','group'])\n",
    "all_profiles_long['radius']=all_profiles_long['value']*50"
   ]
  },
  {
   "cell_type": "code",
   "execution_count": 25,
   "metadata": {},
   "outputs": [
    {
     "data": {
      "image/png": "[encoded data removed]",
      "text/plain": [
       "<Figure size 184.252x113.386 with 1 Axes>"
      ]
     },
     "metadata": {},
     "output_type": "display_data"
    }
   ],
   "source": [
    "plt.figure(figsize=(6.5/2.54,4/2.54))\n",
    "sns.pointplot(data=all_profiles_long,x='variable',y='radius',hue='cell label',palette=[sns.color_palette('Paired',10)[i] for i in [1,3,5,7,9,0,2,4,6,8]],label='')\n",
    "plt.plot(np.arange(-3,-1),200*np.ones(2),c='0',label='Bulbs',linewidth=1.35)\n",
    "plt.plot(np.arange(-3,-1),200*np.ones(2),c='0.5',label='Random nodes',linewidth=1.35)\n",
    "plt.xlabel('Distance [$\\mu m$]')\n",
    "plt.ylabel('Radius [$nm$]')\n",
    "plt.xlim(-0.5,12.5)\n",
    "plt.xticks([0,2,4,6,8,10,12],[-3,-2,-1,0,1,2,3])\n",
    "plt.yticks([150,200,250,300])\n",
    "sns.despine(offset=3)\n",
    "plt.legend(bbox_to_anchor=(1,1),frameon=False)\n",
    "# plt.savefig('./figures/Fig3D_HC_dendritic_dia_bulb_vs_random.svg',bbox_inches='tight',dpi=300)  \n",
    "plt.show()"
   ]
  },
  {
   "cell_type": "markdown",
   "metadata": {},
   "source": [
    "### Figure 3F"
   ]
  },
  {
   "cell_type": "code",
   "execution_count": 26,
   "metadata": {},
   "outputs": [],
   "source": [
    "pw_dist_list = []\n",
    "for i in range(len(bulb_list)):\n",
    "    pw_dist_list.append(squareform(pdist(bulb_list[i][['x_new', 'y_new', 'z_new']], 'euclidean')))"
   ]
  },
  {
   "cell_type": "code",
   "execution_count": 27,
   "metadata": {},
   "outputs": [],
   "source": [
    "nearest_bulb_dist = []\n",
    "for i in range(len(pw_dist_list)):\n",
    "    for k in range(len(pw_dist_list[i])):\n",
    "        nearest_bulb_dist.append(np.min(pw_dist_list[i][k][pw_dist_list[i][k]>0]))\n",
    "nearest_bulb_dist = np.array(nearest_bulb_dist)"
   ]
  },
  {
   "cell_type": "code",
   "execution_count": 28,
   "metadata": {},
   "outputs": [],
   "source": [
    "pw_dist_list_random = []\n",
    "for i in range(len(random_nodes)):\n",
    "    pw_dist_list_random.append(squareform(pdist(random_nodes[i][['x', 'y', 'z']], 'euclidean')))"
   ]
  },
  {
   "cell_type": "code",
   "execution_count": 29,
   "metadata": {},
   "outputs": [],
   "source": [
    "nearest_random_dist = []\n",
    "for i in range(len(pw_dist_list_random)):\n",
    "    for k in range(len(pw_dist_list_random[i])):\n",
    "        nearest_random_dist.append(np.min(pw_dist_list_random[i][k][pw_dist_list_random[i][k]>0]))\n",
    "nearest_random_dist = np.array(nearest_random_dist)"
   ]
  },
  {
   "cell_type": "code",
   "execution_count": 30,
   "metadata": {},
   "outputs": [],
   "source": [
    "bulb_dist_hist = np.histogram(nearest_bulb_dist/20, bins=np.arange(21)*0.75,density=True)\n",
    "random_dist_hist = np.histogram(nearest_random_dist/20, bins=np.arange(21)*0.75,density=True)"
   ]
  },
  {
   "cell_type": "code",
   "execution_count": 31,
   "metadata": {},
   "outputs": [
    {
     "name": "stderr",
     "output_type": "stream",
     "text": [
      "/usr/local/lib/python3.8/dist-packages/IPython/core/pylabtools.py:134: UserWarning: This figure includes Axes that are not compatible with tight_layout, so results might be incorrect.\n",
      "  fig.canvas.print_figure(bytes_io, **kw)\n"
     ]
    },
    {
     "data": {
      "image/png": "[encoded data removed]",
      "text/plain": [
       "<Figure size 255.118x170.079 with 2 Axes>"
      ]
     },
     "metadata": {},
     "output_type": "display_data"
    }
   ],
   "source": [
    "fig,ax = plt.subplots(1,1, figsize=(9/2.54,6/2.54),tight_layout=True)\n",
    "ax.hist(nearest_bulb_dist/20, bins=np.arange(21)*0.75, alpha=0.5,density=True, label='Bulbs')\n",
    "ax.hist(nearest_random_dist/20, bins=np.arange(21)*0.75, alpha=0.5,density=True, label='Random points')\n",
    "plt.legend(loc='lower right', bbox_to_anchor=(1.04,0.08), frameon=False)\n",
    "axins = inset_axes(ax, width=1.0, height=0.5)\n",
    "axins.plot(np.arange(15)*0.75+0.375,np.log(bulb_dist_hist[0][:15]/random_dist_hist[0][:15]))\n",
    "ax.set_yticks([])\n",
    "ax.set_ylabel('Density')\n",
    "ax.set_xlabel('Nearest neighbor distance [µm]')\n",
    "axins.set_xlabel('NN dist. [µm]')\n",
    "axins.set_ylabel('Log ratio')\n",
    "ax.set_xlim(0,15)\n",
    "axins.set_xlim(0,12)\n",
    "sns.despine(offset=3)\n",
    "# plt.savefig('./figures/Fig3F_bulb_spatial_distribution.svg',dpi=300)\n",
    "plt.show()"
   ]
  }
 ],
 "metadata": {
  "kernelspec": {
   "display_name": "Python 3",
   "language": "python",
   "name": "python3"
  },
  "language_info": {
   "codemirror_mode": {
    "name": "ipython",
    "version": 3
   },
   "file_extension": ".py",
   "mimetype": "text/x-python",
   "name": "python",
   "nbconvert_exporter": "python",
   "pygments_lexer": "ipython3",
   "version": "3.8.5"
  },
  "varInspector": {
   "cols": {
    "lenName": 16,
    "lenType": 16,
    "lenVar": 40
   },
   "kernels_config": {
    "python": {
     "delete_cmd_postfix": "",
     "delete_cmd_prefix": "del ",
     "library": "var_list.py",
     "varRefreshCmd": "print(var_dic_list())"
    },
    "r": {
     "delete_cmd_postfix": ") ",
     "delete_cmd_prefix": "rm(",
     "library": "var_list.r",
     "varRefreshCmd": "cat(var_dic_list()) "
    }
   },
   "types_to_exclude": [
    "module",
    "function",
    "builtin_function_or_method",
    "instance",
    "_Feature"
   ],
   "window_display": false
  }
 },
 "nbformat": 4,
 "nbformat_minor": 2
}
