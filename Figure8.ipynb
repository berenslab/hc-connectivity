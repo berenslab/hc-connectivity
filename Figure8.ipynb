{
 "cells": [
  {
   "cell_type": "code",
   "execution_count": 1,
   "metadata": {},
   "outputs": [],
   "source": [
    "import numpy as np\n",
    "import matplotlib\n",
    "import matplotlib.pyplot as plt\n",
    "import hc_model_wrapper\n",
    "import pandas as pd\n",
    "import seaborn as sns\n",
    "from helpers import sns_styleset\n",
    "%matplotlib inline"
   ]
  },
  {
   "cell_type": "code",
   "execution_count": 2,
   "metadata": {},
   "outputs": [],
   "source": [
    "sns_styleset()"
   ]
  },
  {
   "cell_type": "markdown",
   "metadata": {},
   "source": [
    "### Part to run the model, requires NeuronC"
   ]
  },
  {
   "cell_type": "code",
   "execution_count": null,
   "metadata": {},
   "outputs": [],
   "source": [
    "retsim_dir='/absolute/path/to/retsim/'"
   ]
  },
  {
   "cell_type": "code",
   "execution_count": null,
   "metadata": {},
   "outputs": [],
   "source": [
    "hc_model_wrapper.set_dir(retsim_dir)"
   ]
  },
  {
   "cell_type": "code",
   "execution_count": null,
   "metadata": {},
   "outputs": [],
   "source": [
    "data1_bulbs=hc_model_wrapper.run(expt='hc_bulbs',hb_file='morph_HC_dendrite',\n",
    "                                 nrepeats=1,rectype=4,stimtype=4,m_inten=100,stimdur=21,\n",
    "                                 xstimsize=30,ystimsize=40,xpixels=6,ypixels=8,xstimoff=5,ystimoff=27.5,vnoise=0)"
   ]
  },
  {
   "cell_type": "code",
   "execution_count": null,
   "metadata": {},
   "outputs": [],
   "source": [
    "data2_bulbs=hc_model_wrapper.run(expt='hc_bulbs',hb_file='morph_HC_dendrite',\n",
    "                                 nrepeats=1,rectype=4,stimtype=4,m_inten=100,stimdur=21,\n",
    "                                 xstimsize=30,ystimsize=40,xpixels=1,ypixels=1,xstimoff=-7.5,ystimoff=10,vnoise=0)"
   ]
  },
  {
   "cell_type": "code",
   "execution_count": null,
   "metadata": {},
   "outputs": [],
   "source": [
    "data1n_bulbs=hc_model_wrapper.run(expt='hc_bulbs',hb_file='morph_HC_dendrite',\n",
    "                                  nrepeats=1,rectype=4,stimtype=4,m_inten=100,stimdur=61,\n",
    "                                  xstimsize=30,ystimsize=40,xpixels=6,ypixels=8,xstimoff=5,ystimoff=27.5,vnoise=1)"
   ]
  },
  {
   "cell_type": "code",
   "execution_count": null,
   "metadata": {},
   "outputs": [],
   "source": [
    "data2n_bulbs=hc_model_wrapper.run(expt='hc_bulbs',hb_file='morph_HC_dendrite',\n",
    "                                  nrepeats=1,rectype=4,stimtype=4,m_inten=100,stimdur=61,\n",
    "                                  xstimsize=30,ystimsize=40,xpixels=1,ypixels=1,xstimoff=-7.5,ystimoff=10,vnoise=1)"
   ]
  },
  {
   "cell_type": "code",
   "execution_count": null,
   "metadata": {},
   "outputs": [],
   "source": [
    "data1n_no_bulbs=hc_model_wrapper.run(expt='hc_bulbs',hb_file='morph_HC_dendrite_no_bulbs',\n",
    "                                     nrepeats=1,rectype=4,stimtype=4,m_inten=100,stimdur=61,\n",
    "                                     xstimsize=30,ystimsize=40,xpixels=6,ypixels=8,xstimoff=5,ystimoff=27.5,vnoise=1)"
   ]
  },
  {
   "cell_type": "code",
   "execution_count": null,
   "metadata": {},
   "outputs": [],
   "source": [
    "data2n_no_bulbs=hc_model_wrapper.run(expt='hc_bulbs',hb_file='morph_HC_dendrite_no_bulbs',\n",
    "                                     nrepeats=1,rectype=4,stimtype=4,m_inten=100,stimdur=61,\n",
    "                                     xstimsize=30,ystimsize=40,xpixels=1,ypixels=1,xstimoff=-7.5,ystimoff=10,vnoise=1)"
   ]
  },
  {
   "cell_type": "code",
   "execution_count": null,
   "metadata": {},
   "outputs": [],
   "source": [
    "data1n_big_bulbs=hc_model_wrapper.run(expt='hc_bulbs',hb_file='morph_HC_dendrite_big_bulbs',\n",
    "                                      nrepeats=1,rectype=4,stimtype=4,m_inten=100,stimdur=61,\n",
    "                                      xstimsize=30,ystimsize=40,xpixels=6,ypixels=8,xstimoff=5,ystimoff=27.5,vnoise=1)"
   ]
  },
  {
   "cell_type": "code",
   "execution_count": null,
   "metadata": {},
   "outputs": [],
   "source": [
    "data2n_big_bulbs=hc_model_wrapper.run(expt='hc_bulbs',hb_file='morph_HC_dendrite_big_bulbs',\n",
    "                                      nrepeats=1,rectype=4,stimtype=4,m_inten=100,stimdur=61,\n",
    "                                      xstimsize=30,ystimsize=40,xpixels=1,ypixels=1,xstimoff=-7.5,ystimoff=10,vnoise=1)"
   ]
  },
  {
   "cell_type": "code",
   "execution_count": null,
   "metadata": {},
   "outputs": [],
   "source": [
    "data1n_chan5=hc_model_wrapper.run(expt='hc_bulbs',hb_file='morph_HC_dendrite_bulb_channels',\n",
    "                                  hb_densfile='dens_hb_bulb_chans_x5.n',\n",
    "                                  nrepeats=1,rectype=4,stimtype=4,m_inten=100,stimdur=61,\n",
    "                                  xstimsize=30,ystimsize=40,xpixels=6,ypixels=8,xstimoff=5,ystimoff=27.5,vnoise=1)"
   ]
  },
  {
   "cell_type": "code",
   "execution_count": null,
   "metadata": {},
   "outputs": [],
   "source": [
    "data2n_chan5=hc_model_wrapper.run(expt='hc_bulbs',hb_file='morph_HC_dendrite_bulb_channels',\n",
    "                                  hb_densfile='dens_hb_bulb_chans_x5.n',\n",
    "                                  nrepeats=1,rectype=4,stimtype=4,m_inten=100,stimdur=61,\n",
    "                                  xstimsize=30,ystimsize=40,xpixels=1,ypixels=1,xstimoff=-7.5,ystimoff=10,vnoise=1)"
   ]
  },
  {
   "cell_type": "code",
   "execution_count": null,
   "metadata": {},
   "outputs": [],
   "source": [
    "data1n_chan10=hc_model_wrapper.run(expt='hc_bulbs',hb_file='morph_HC_dendrite_bulb_channels',\n",
    "                                   hb_densfile='dens_hb_bulb_chans_x10.n',\n",
    "                                   nrepeats=1,rectype=4,stimtype=4,m_inten=100,stimdur=61,\n",
    "                                   xstimsize=30,ystimsize=40,xpixels=6,ypixels=8,xstimoff=5,ystimoff=27.5,vnoise=1)"
   ]
  },
  {
   "cell_type": "code",
   "execution_count": null,
   "metadata": {},
   "outputs": [],
   "source": [
    "data2n_chan10=hc_model_wrapper.run(expt='hc_bulbs',hb_file='morph_HC_dendrite_bulb_channels',\n",
    "                                   hb_densfile='dens_hb_bulb_chans_x10.n',\n",
    "                                   nrepeats=1,rectype=4,stimtype=4,m_inten=100,stimdur=61,\n",
    "                                   xstimsize=30,ystimsize=40,xpixels=1,ypixels=1,xstimoff=-7.5,ystimoff=10,vnoise=1)"
   ]
  },
  {
   "cell_type": "code",
   "execution_count": null,
   "metadata": {},
   "outputs": [],
   "source": [
    "data1_bulbs.to_hdf('./data/modeling_data/checkerboard_clean_bulbs.h5', key='data', complevel=9)\n",
    "data2_bulbs.to_hdf('./data/modeling_data/fullfield_clean_bulbs.h5', key='data', complevel=9)\n",
    "data1n_bulbs.to_hdf('./data/modeling_data/checkerboard_noise_bulbs.h5', key='data', complevel=9)\n",
    "data2n_bulbs.to_hdf('./data/modeling_data/fullfield_noise_bulbs.h5', key='data', complevel=9)"
   ]
  },
  {
   "cell_type": "code",
   "execution_count": null,
   "metadata": {},
   "outputs": [],
   "source": [
    "data1n_no_bulbs.to_hdf('./data/modeling_data/checkerboard_noise_no_bulbs.h5', key='data', complevel=9)\n",
    "data2n_no_bulbs.to_hdf('./data/modeling_data/fullfield_noise_no_bulbs.h5', key='data', complevel=9)\n",
    "data1n_big_bulbs.to_hdf('./data/modeling_data/checkerboard_noise_big_bulbs.h5', key='data', complevel=9)\n",
    "data2n_big_bulbs.to_hdf('./data/modeling_data/fullfield_noise_big_bulbs.h5', key='data', complevel=9)"
   ]
  },
  {
   "cell_type": "code",
   "execution_count": null,
   "metadata": {},
   "outputs": [],
   "source": [
    "data1n_chan5.to_hdf('./data/modeling_data/checkerboard_noise_bulb_channels5.h5', key='data', complevel=9)\n",
    "data2n_chan5.to_hdf('./data/modeling_data/fullfield_noise_bulb_channels5.h5', key='data', complevel=9)\n",
    "data1n_chan10.to_hdf('./data/modeling_data/checkerboard_noise_bulb_channels10.h5', key='data', complevel=9)\n",
    "data2n_chan10.to_hdf('./data/modeling_data/fullfield_noise_bulb_channels10.h5', key='data', complevel=9)"
   ]
  },
  {
   "cell_type": "markdown",
   "metadata": {},
   "source": [
    "### Code to reproduce the figures from the modeling data"
   ]
  },
  {
   "cell_type": "code",
   "execution_count": 3,
   "metadata": {},
   "outputs": [],
   "source": [
    "# read data without noise for Figure 8C & D\n",
    "data1_bulbs = pd.read_hdf('./data/modeling_data/checkerboard_clean_bulbs.h5')\n",
    "data2_bulbs = pd.read_hdf('./data/modeling_data/fullfield_clean_bulbs.h5')"
   ]
  },
  {
   "cell_type": "code",
   "execution_count": 4,
   "metadata": {},
   "outputs": [],
   "source": [
    "# read data for bulb diameter comparison\n",
    "data1n_bulbs = pd.read_hdf('./data/modeling_data/checkerboard_noise_bulbs.h5')\n",
    "data2n_bulbs = pd.read_hdf('./data/modeling_data/fullfield_noise_bulbs.h5')\n",
    "data1n_no_bulbs = pd.read_hdf('./data/modeling_data/checkerboard_noise_no_bulbs.h5')\n",
    "data2n_no_bulbs = pd.read_hdf('./data/modeling_data/fullfield_noise_no_bulbs.h5')\n",
    "data1n_big_bulbs = pd.read_hdf('./data/modeling_data/checkerboard_noise_big_bulbs.h5')\n",
    "data2n_big_bulbs = pd.read_hdf('./data/modeling_data/fullfield_noise_big_bulbs.h5')"
   ]
  },
  {
   "cell_type": "code",
   "execution_count": 5,
   "metadata": {},
   "outputs": [],
   "source": [
    "# read data for bulb channel density comparison\n",
    "data1n_chan5 = pd.read_hdf('./data/modeling_data/checkerboard_noise_bulb_channels5.h5')\n",
    "data2n_chan5 = pd.read_hdf('./data/modeling_data/fullfield_noise_bulb_channels5.h5')\n",
    "data1n_chan10 = pd.read_hdf('./data/modeling_data/checkerboard_noise_bulb_channels10.h5')\n",
    "data2n_chan10 = pd.read_hdf('./data/modeling_data/fullfield_noise_bulb_channels10.h5')"
   ]
  },
  {
   "cell_type": "markdown",
   "metadata": {},
   "source": [
    "#### Data indices\n",
    "\n",
    "cones, i=0...11\n",
    "\n",
    "- 1 + i*5 light at cones\n",
    "- 2 + i*5 syn rate at cones\n",
    "- 3 + i*5 V at cone node 0\n",
    "- 4 + i*5 V at cone node 1\n",
    "- 5 + i*5 Ca at cone node 1\n",
    "\n",
    "HC, i=0...27\n",
    "\n",
    "- 61 + i HC voltages\n",
    "- 88 + i Calcium\n",
    "- 61 soma V\n",
    "- 62-73 tip V\n",
    "- 74-87 bulb V\n",
    "- 88 soma Ca\n",
    "- 89-100 tip Ca\n",
    "- 101-114 bulb Ca"
   ]
  },
  {
   "cell_type": "code",
   "execution_count": 6,
   "metadata": {},
   "outputs": [
    {
     "data": {
      "image/png": "[encoded data removed]",
      "text/plain": [
       "<Figure size 226.772x113.386 with 1 Axes>"
      ]
     },
     "metadata": {},
     "output_type": "display_data"
    }
   ],
   "source": [
    "sns.set_style()\n",
    "plt.figure(figsize=(8/2.54,4/2.54))\n",
    "plt.plot(data2_bulbs.iloc[1000:,0],data2_bulbs.iloc[1000:,71]+0.04,c=[0,0.8,.8],label='Indiviual tip')\n",
    "plt.plot(data2_bulbs.iloc[1000:,0],data2_bulbs.iloc[1000:,66]+0.025,c=[0,0.8,.8])\n",
    "plt.plot(data2_bulbs.iloc[1000:,0],np.mean(data2_bulbs.iloc[1000:,62:74]+0.01,axis=1),c='black',label='Tip average')\n",
    "plt.plot(data2_bulbs.iloc[1000:,0],data2_bulbs.iloc[1000:,74]+0.01,c='purple',label='Bulb')\n",
    "plt.plot(data2_bulbs.iloc[1000:,0],data2_bulbs.iloc[1000:,75],c='purple')\n",
    "plt.legend(loc=7,bbox_to_anchor=(1.5, 0.5))\n",
    "sns.despine()\n",
    "# plt.savefig('./figures/Fig8C_HC_bulb_model_traces_fullfield.svg',bbox_inches='tight',dpi=300)\n",
    "plt.show()"
   ]
  },
  {
   "cell_type": "code",
   "execution_count": 7,
   "metadata": {},
   "outputs": [
    {
     "data": {
      "image/png": "[encoded data removed]",
      "text/plain": [
       "<Figure size 226.772x113.386 with 1 Axes>"
      ]
     },
     "metadata": {},
     "output_type": "display_data"
    }
   ],
   "source": [
    "sns.set_style()\n",
    "plt.figure(figsize=(8/2.54,4/2.54))\n",
    "plt.plot(data1_bulbs.iloc[1000:,0],data1_bulbs.iloc[1000:,71]+0.04,c=[0,0.8,.8],label='Indiviual tip')\n",
    "plt.plot(data1_bulbs.iloc[1000:,0],data1_bulbs.iloc[1000:,66]+0.025,c=[0,0.8,.8])\n",
    "plt.plot(data1_bulbs.iloc[1000:,0],np.mean(data1_bulbs.iloc[1000:,62:74]+0.01,axis=1),c='black',label='Tip average')\n",
    "plt.plot(data1_bulbs.iloc[1000:,0],data1_bulbs.iloc[1000:,74]+0.01,c='purple',label='Bulb')\n",
    "plt.plot(data1_bulbs.iloc[1000:,0],data1_bulbs.iloc[1000:,75],c='purple')\n",
    "plt.legend(loc=7,bbox_to_anchor=(1.5, 0.5))\n",
    "sns.despine()\n",
    "# plt.savefig('./figures/Fig8D_HC_bulb_model_traces_checkerboard.svg',bbox_inches='tight',dpi=300)\n",
    "plt.show()"
   ]
  },
  {
   "cell_type": "code",
   "execution_count": 8,
   "metadata": {},
   "outputs": [],
   "source": [
    "corrdata1n_bulbs=data1n_bulbs.iloc[1000:,[i for i in range(62,88)]+[61]].values.T\n",
    "corrdata1nb_bulbs=np.vstack((corrdata1n_bulbs,np.mean(corrdata1n_bulbs[:12,:],axis=0),np.mean(corrdata1n_bulbs[12:25,:],axis=0)))\n",
    "corrdata2n_bulbs=data2n_bulbs.iloc[1000:,[i for i in range(62,88)]+[61]].values.T\n",
    "corrdata2nb_bulbs=np.vstack((corrdata2n_bulbs,np.mean(corrdata2n_bulbs[:12,:],axis=0),np.mean(corrdata2n_bulbs[12:25,:],axis=0)))"
   ]
  },
  {
   "cell_type": "code",
   "execution_count": 9,
   "metadata": {},
   "outputs": [],
   "source": [
    "corrdata1n_no_bulbs=data1n_no_bulbs.iloc[1000:,[i for i in range(62,88)]+[61]].values.T\n",
    "corrdata1nb_no_bulbs=np.vstack((corrdata1n_no_bulbs,np.mean(corrdata1n_no_bulbs[:12,:],axis=0),np.mean(corrdata1n_no_bulbs[12:25,:],axis=0)))\n",
    "corrdata2n_no_bulbs=data2n_no_bulbs.iloc[1000:,[i for i in range(62,88)]+[61]].values.T\n",
    "corrdata2nb_no_bulbs=np.vstack((corrdata2n_no_bulbs,np.mean(corrdata2n_no_bulbs[:12,:],axis=0),np.mean(corrdata2n_no_bulbs[12:25,:],axis=0)))"
   ]
  },
  {
   "cell_type": "code",
   "execution_count": 10,
   "metadata": {},
   "outputs": [],
   "source": [
    "corrdata1n_big_bulbs=data1n_big_bulbs.iloc[1000:,[i for i in range(62,88)]+[61]].values.T\n",
    "corrdata1nb_big_bulbs=np.vstack((corrdata1n_big_bulbs,np.mean(corrdata1n_big_bulbs[:12,:],axis=0),np.mean(corrdata1n_big_bulbs[12:25,:],axis=0)))\n",
    "corrdata2n_big_bulbs=data2n_no_bulbs.iloc[1000:,[i for i in range(62,88)]+[61]].values.T\n",
    "corrdata2nb_big_bulbs=np.vstack((corrdata2n_big_bulbs,np.mean(corrdata2n_big_bulbs[:12,:],axis=0),np.mean(corrdata2n_big_bulbs[12:25,:],axis=0)))"
   ]
  },
  {
   "cell_type": "code",
   "execution_count": 11,
   "metadata": {},
   "outputs": [],
   "source": [
    "corrdata1n_chan5=data1n_chan5.iloc[1000:,[i for i in range(62,88)]+[61]].values.T\n",
    "corrdata1nb_chan5=np.vstack((corrdata1n_chan5,np.mean(corrdata1n_chan5[:12,:],axis=0),np.mean(corrdata1n_chan5[12:25,:],axis=0)))\n",
    "corrdata2n_chan5=data2n_chan5.iloc[1000:,[i for i in range(62,88)]+[61]].values.T\n",
    "corrdata2nb_chan5=np.vstack((corrdata2n_chan5,np.mean(corrdata2n_chan5[:12,:],axis=0),np.mean(corrdata2n_chan5[12:25,:],axis=0)))"
   ]
  },
  {
   "cell_type": "code",
   "execution_count": 12,
   "metadata": {},
   "outputs": [],
   "source": [
    "corrdata1n_chan10=data1n_chan10.iloc[1000:,[i for i in range(62,88)]+[61]].values.T\n",
    "corrdata1nb_chan10=np.vstack((corrdata1n_chan10,np.mean(corrdata1n_chan10[:12,:],axis=0),np.mean(corrdata1n_chan10[12:25,:],axis=0)))\n",
    "corrdata2n_chan10=data2n_chan10.iloc[1000:,[i for i in range(62,88)]+[61]].values.T\n",
    "corrdata2nb_chan10=np.vstack((corrdata2n_chan10,np.mean(corrdata2n_chan10[:12,:],axis=0),np.mean(corrdata2n_chan10[12:25,:],axis=0)))"
   ]
  },
  {
   "cell_type": "code",
   "execution_count": 13,
   "metadata": {},
   "outputs": [
    {
     "data": {
      "image/png": "[encoded data removed]",
      "text/plain": [
       "<Figure size 432x288 with 2 Axes>"
      ]
     },
     "metadata": {},
     "output_type": "display_data"
    }
   ],
   "source": [
    "sns.set(font='Arial',font_scale=5/6,context='paper',style='white',rc={\"xtick.major.size\": 0, \"ytick.major.size\": 0})\n",
    "labels=['1','2','3','4','5','6','7','8','9','10','11','12',\\\n",
    "        '1','2','3','4','5','6','7','8','9','10','11',\\\n",
    "        '12','13','14','Soma','Tip avg','Bulb avg']\n",
    "sns.heatmap(np.corrcoef(corrdata1nb_bulbs),xticklabels=labels,yticklabels=labels,square=True,vmin=0,vmax=1,cmap='GnBu')\n",
    "# plt.savefig('./figures/Fig8F_HC_model_corr_checkerboard_noise_bulbs.svg',bbox_inches='tight',dpi=300)\n",
    "plt.show()"
   ]
  },
  {
   "cell_type": "code",
   "execution_count": 14,
   "metadata": {},
   "outputs": [
    {
     "data": {
      "image/png": "[encoded data removed]",
      "text/plain": [
       "<Figure size 432x288 with 2 Axes>"
      ]
     },
     "metadata": {},
     "output_type": "display_data"
    }
   ],
   "source": [
    "sns.set(font='Arial',font_scale=5/6,context='paper',style='white',rc={\"xtick.major.size\": 0, \"ytick.major.size\": 0})\n",
    "labels=['1','2','3','4','5','6','7','8','9','10','11','12',\\\n",
    "        '1','2','3','4','5','6','7','8','9','10','11',\\\n",
    "        '12','13','14','Soma','Tip avg','Bulb avg']\n",
    "sns.heatmap(np.corrcoef(corrdata2nb_bulbs),xticklabels=labels,yticklabels=labels,square=True,vmin=0,vmax=1,cmap='GnBu')\n",
    "# plt.savefig('./figures/Fig8E_HC_model_corr_fullfield_noise_bulbs.svg',bbox_inches='tight',dpi=300)\n",
    "plt.show()"
   ]
  },
  {
   "cell_type": "code",
   "execution_count": 15,
   "metadata": {},
   "outputs": [],
   "source": [
    "corr_full=np.corrcoef(corrdata2nb_bulbs)\n",
    "corr_check=np.corrcoef(corrdata1nb_bulbs)\n",
    "corr_df=pd.DataFrame(columns=['correlation','type','stimulus'])\n",
    "k=0\n",
    "for i in range(27):\n",
    "    for j in range(i+1,28):\n",
    "        if (i<12)&(j<12):\n",
    "            corr_df.loc[k]=[corr_full[i,j],'tips-tips','full-field']\n",
    "        elif (i<12)&(j<26):\n",
    "            corr_df.loc[k]=[corr_full[i,j],'tips-bulbs','full-field']\n",
    "        elif (i<26)&(j<26):\n",
    "            corr_df.loc[k]=[corr_full[i,j],'bulbs-bulbs','full-field']\n",
    "        elif (i<12)&(j==26):\n",
    "            corr_df.loc[k]=[corr_full[i,j],'tips-soma','full-field']\n",
    "        elif (i<26)&(j==26):\n",
    "            corr_df.loc[k]=[corr_full[i,j],'bulbs-soma','full-field']\n",
    "        elif (i<12)&(j==27):\n",
    "            corr_df.loc[k]=[corr_full[i,j],'tips-tip mean','full-field']\n",
    "        elif (i<26)&(j==27):\n",
    "            corr_df.loc[k]=[corr_full[i,j],'bulbs-tip mean','full-field']\n",
    "        k+=1\n",
    "for i in range(27):\n",
    "    for j in range(i+1,28):\n",
    "        if (i<12)&(j<12):\n",
    "            corr_df.loc[k]=[corr_check[i,j],'tips-tips','checkerboard']\n",
    "        elif (i<12)&(j<26):\n",
    "            corr_df.loc[k]=[corr_check[i,j],'tips-bulbs','checkerboard']\n",
    "        elif (i<26)&(j<26):\n",
    "            corr_df.loc[k]=[corr_check[i,j],'bulbs-bulbs','checkerboard']\n",
    "        elif (i<12)&(j==26):\n",
    "            corr_df.loc[k]=[corr_check[i,j],'tips-soma','checkerboard']\n",
    "        elif (i<26)&(j==26):\n",
    "            corr_df.loc[k]=[corr_check[i,j],'bulbs-soma','checkerboard']\n",
    "        elif (i<12)&(j==27):\n",
    "            corr_df.loc[k]=[corr_check[i,j],'tips-tip mean','checkerboard']\n",
    "        elif (i<26)&(j==27):\n",
    "            corr_df.loc[k]=[corr_check[i,j],'bulbs-tip mean','checkerboard']\n",
    "        k+=1"
   ]
  },
  {
   "cell_type": "code",
   "execution_count": 16,
   "metadata": {},
   "outputs": [],
   "source": [
    "corr_full2=np.corrcoef(corrdata2nb_no_bulbs)\n",
    "corr_check2=np.corrcoef(corrdata1nb_no_bulbs)\n",
    "corr_df_no_bulbs=pd.DataFrame(columns=['correlation','type','stimulus'])\n",
    "k=0\n",
    "for i in range(27):\n",
    "    for j in range(i+1,28):\n",
    "        if (i<12)&(j<12):\n",
    "            corr_df_no_bulbs.loc[k]=[corr_full2[i,j],'tips-tips','full-field']\n",
    "        elif (i<12)&(j<26):\n",
    "            corr_df_no_bulbs.loc[k]=[corr_full2[i,j],'tips-bulbs','full-field']\n",
    "        elif (i<26)&(j<26):\n",
    "            corr_df_no_bulbs.loc[k]=[corr_full2[i,j],'bulbs-bulbs','full-field']\n",
    "        elif (i<12)&(j==26):\n",
    "            corr_df_no_bulbs.loc[k]=[corr_full2[i,j],'tips-soma','full-field']\n",
    "        elif (i<26)&(j==26):\n",
    "            corr_df_no_bulbs.loc[k]=[corr_full2[i,j],'bulbs-soma','full-field']\n",
    "        elif (i<12)&(j==27):\n",
    "            corr_df_no_bulbs.loc[k]=[corr_full2[i,j],'tips-tip mean','full-field']\n",
    "        elif (i<26)&(j==27):\n",
    "            corr_df_no_bulbs.loc[k]=[corr_full2[i,j],'bulbs-tip mean','full-field']\n",
    "        k+=1\n",
    "for i in range(27):\n",
    "    for j in range(i+1,28):\n",
    "        if (i<12)&(j<12):\n",
    "            corr_df_no_bulbs.loc[k]=[corr_check2[i,j],'tips-tips','checkerboard']\n",
    "        elif (i<12)&(j<26):\n",
    "            corr_df_no_bulbs.loc[k]=[corr_check2[i,j],'tips-bulbs','checkerboard']\n",
    "        elif (i<26)&(j<26):\n",
    "            corr_df_no_bulbs.loc[k]=[corr_check2[i,j],'bulbs-bulbs','checkerboard']\n",
    "        elif (i<12)&(j==26):\n",
    "            corr_df_no_bulbs.loc[k]=[corr_check2[i,j],'tips-soma','checkerboard']\n",
    "        elif (i<26)&(j==26):\n",
    "            corr_df_no_bulbs.loc[k]=[corr_check2[i,j],'bulbs-soma','checkerboard']\n",
    "        elif (i<12)&(j==27):\n",
    "            corr_df_no_bulbs.loc[k]=[corr_check2[i,j],'tips-tip mean','checkerboard']\n",
    "        elif (i<26)&(j==27):\n",
    "            corr_df_no_bulbs.loc[k]=[corr_check2[i,j],'bulbs-tip mean','checkerboard']\n",
    "        k+=1"
   ]
  },
  {
   "cell_type": "code",
   "execution_count": 17,
   "metadata": {},
   "outputs": [],
   "source": [
    "corr_full3=np.corrcoef(corrdata2nb_big_bulbs)\n",
    "corr_check3=np.corrcoef(corrdata1nb_big_bulbs)\n",
    "corr_df_big_bulbs=pd.DataFrame(columns=['correlation','type','stimulus'])\n",
    "k=0\n",
    "for i in range(27):\n",
    "    for j in range(i+1,28):\n",
    "        if (i<12)&(j<12):\n",
    "            corr_df_big_bulbs.loc[k]=[corr_full3[i,j],'tips-tips','full-field']\n",
    "        elif (i<12)&(j<26):\n",
    "            corr_df_big_bulbs.loc[k]=[corr_full3[i,j],'tips-bulbs','full-field']\n",
    "        elif (i<26)&(j<26):\n",
    "            corr_df_big_bulbs.loc[k]=[corr_full3[i,j],'bulbs-bulbs','full-field']\n",
    "        elif (i<12)&(j==26):\n",
    "            corr_df_big_bulbs.loc[k]=[corr_full3[i,j],'tips-soma','full-field']\n",
    "        elif (i<26)&(j==26):\n",
    "            corr_df_big_bulbs.loc[k]=[corr_full3[i,j],'bulbs-soma','full-field']\n",
    "        elif (i<12)&(j==27):\n",
    "            corr_df_big_bulbs.loc[k]=[corr_full3[i,j],'tips-tip mean','full-field']\n",
    "        elif (i<26)&(j==27):\n",
    "            corr_df_big_bulbs.loc[k]=[corr_full3[i,j],'bulbs-tip mean','full-field']\n",
    "        k+=1\n",
    "for i in range(27):\n",
    "    for j in range(i+1,28):\n",
    "        if (i<12)&(j<12):\n",
    "            corr_df_big_bulbs.loc[k]=[corr_check3[i,j],'tips-tips','checkerboard']\n",
    "        elif (i<12)&(j<26):\n",
    "            corr_df_big_bulbs.loc[k]=[corr_check3[i,j],'tips-bulbs','checkerboard']\n",
    "        elif (i<26)&(j<26):\n",
    "            corr_df_big_bulbs.loc[k]=[corr_check3[i,j],'bulbs-bulbs','checkerboard']\n",
    "        elif (i<12)&(j==26):\n",
    "            corr_df_big_bulbs.loc[k]=[corr_check3[i,j],'tips-soma','checkerboard']\n",
    "        elif (i<26)&(j==26):\n",
    "            corr_df_big_bulbs.loc[k]=[corr_check3[i,j],'bulbs-soma','checkerboard']\n",
    "        elif (i<12)&(j==27):\n",
    "            corr_df_big_bulbs.loc[k]=[corr_check3[i,j],'tips-tip mean','checkerboard']\n",
    "        elif (i<26)&(j==27):\n",
    "            corr_df_big_bulbs.loc[k]=[corr_check3[i,j],'bulbs-tip mean','checkerboard']\n",
    "        k+=1"
   ]
  },
  {
   "cell_type": "code",
   "execution_count": 18,
   "metadata": {},
   "outputs": [],
   "source": [
    "corr_full2=np.corrcoef(corrdata2nb_chan5)\n",
    "corr_check2=np.corrcoef(corrdata1nb_chan5)\n",
    "corr_df_chan5=pd.DataFrame(columns=['correlation','type','stimulus'])\n",
    "k=0\n",
    "for i in range(27):\n",
    "    for j in range(i+1,28):\n",
    "        if (i<12)&(j<12):\n",
    "            corr_df_chan5.loc[k]=[corr_full2[i,j],'tips-tips','full-field']\n",
    "        elif (i<12)&(j<26):\n",
    "            corr_df_chan5.loc[k]=[corr_full2[i,j],'tips-bulbs','full-field']\n",
    "        elif (i<26)&(j<26):\n",
    "            corr_df_chan5.loc[k]=[corr_full2[i,j],'bulbs-bulbs','full-field']\n",
    "        elif (i<12)&(j==26):\n",
    "            corr_df_chan5.loc[k]=[corr_full2[i,j],'tips-soma','full-field']\n",
    "        elif (i<26)&(j==26):\n",
    "            corr_df_chan5.loc[k]=[corr_full2[i,j],'bulbs-soma','full-field']\n",
    "        elif (i<12)&(j==27):\n",
    "            corr_df_chan5.loc[k]=[corr_full2[i,j],'tips-tip mean','full-field']\n",
    "        elif (i<26)&(j==27):\n",
    "            corr_df_chan5.loc[k]=[corr_full2[i,j],'bulbs-tip mean','full-field']\n",
    "        k+=1\n",
    "for i in range(27):\n",
    "    for j in range(i+1,28):\n",
    "        if (i<12)&(j<12):\n",
    "            corr_df_chan5.loc[k]=[corr_check2[i,j],'tips-tips','checkerboard']\n",
    "        elif (i<12)&(j<26):\n",
    "            corr_df_chan5.loc[k]=[corr_check2[i,j],'tips-bulbs','checkerboard']\n",
    "        elif (i<26)&(j<26):\n",
    "            corr_df_chan5.loc[k]=[corr_check2[i,j],'bulbs-bulbs','checkerboard']\n",
    "        elif (i<12)&(j==26):\n",
    "            corr_df_chan5.loc[k]=[corr_check2[i,j],'tips-soma','checkerboard']\n",
    "        elif (i<26)&(j==26):\n",
    "            corr_df_chan5.loc[k]=[corr_check2[i,j],'bulbs-soma','checkerboard']\n",
    "        elif (i<12)&(j==27):\n",
    "            corr_df_chan5.loc[k]=[corr_check2[i,j],'tips-tip mean','checkerboard']\n",
    "        elif (i<26)&(j==27):\n",
    "            corr_df_chan5.loc[k]=[corr_check2[i,j],'bulbs-tip mean','checkerboard']\n",
    "        k+=1"
   ]
  },
  {
   "cell_type": "code",
   "execution_count": 19,
   "metadata": {},
   "outputs": [],
   "source": [
    "corr_full3=np.corrcoef(corrdata2nb_chan10)\n",
    "corr_check3=np.corrcoef(corrdata1nb_chan10)\n",
    "corr_df_chan10=pd.DataFrame(columns=['correlation','type','stimulus'])\n",
    "k=0\n",
    "for i in range(27):\n",
    "    for j in range(i+1,28):\n",
    "        if (i<12)&(j<12):\n",
    "            corr_df_chan10.loc[k]=[corr_full3[i,j],'tips-tips','full-field']\n",
    "        elif (i<12)&(j<26):\n",
    "            corr_df_chan10.loc[k]=[corr_full3[i,j],'tips-bulbs','full-field']\n",
    "        elif (i<26)&(j<26):\n",
    "            corr_df_chan10.loc[k]=[corr_full3[i,j],'bulbs-bulbs','full-field']\n",
    "        elif (i<12)&(j==26):\n",
    "            corr_df_chan10.loc[k]=[corr_full3[i,j],'tips-soma','full-field']\n",
    "        elif (i<26)&(j==26):\n",
    "            corr_df_chan10.loc[k]=[corr_full3[i,j],'bulbs-soma','full-field']\n",
    "        elif (i<12)&(j==27):\n",
    "            corr_df_chan10.loc[k]=[corr_full3[i,j],'tips-tip mean','full-field']\n",
    "        elif (i<26)&(j==27):\n",
    "            corr_df_chan10.loc[k]=[corr_full3[i,j],'bulbs-tip mean','full-field']\n",
    "        k+=1\n",
    "for i in range(27):\n",
    "    for j in range(i+1,28):\n",
    "        if (i<12)&(j<12):\n",
    "            corr_df_chan10.loc[k]=[corr_check3[i,j],'tips-tips','checkerboard']\n",
    "        elif (i<12)&(j<26):\n",
    "            corr_df_chan10.loc[k]=[corr_check3[i,j],'tips-bulbs','checkerboard']\n",
    "        elif (i<26)&(j<26):\n",
    "            corr_df_chan10.loc[k]=[corr_check3[i,j],'bulbs-bulbs','checkerboard']\n",
    "        elif (i<12)&(j==26):\n",
    "            corr_df_chan10.loc[k]=[corr_check3[i,j],'tips-soma','checkerboard']\n",
    "        elif (i<26)&(j==26):\n",
    "            corr_df_chan10.loc[k]=[corr_check3[i,j],'bulbs-soma','checkerboard']\n",
    "        elif (i<12)&(j==27):\n",
    "            corr_df_chan10.loc[k]=[corr_check3[i,j],'tips-tip mean','checkerboard']\n",
    "        elif (i<26)&(j==27):\n",
    "            corr_df_chan10.loc[k]=[corr_check3[i,j],'bulbs-tip mean','checkerboard']\n",
    "        k+=1"
   ]
  },
  {
   "cell_type": "code",
   "execution_count": 20,
   "metadata": {},
   "outputs": [
    {
     "data": {
      "text/plain": [
       "0.7929450802135996"
      ]
     },
     "execution_count": 20,
     "metadata": {},
     "output_type": "execute_result"
    }
   ],
   "source": [
    "# mean correlation for full-field stimulation\n",
    "np.mean(corr_df[(corr_df['stimulus']=='full-field') & np.in1d(corr_df['type'],['bulbs-bulbs', 'bulbs-soma', 'tips-bulbs',\n",
    "       'tips-soma', 'tips-tips'])]['correlation'].values)"
   ]
  },
  {
   "cell_type": "code",
   "execution_count": 21,
   "metadata": {
    "code_folding": []
   },
   "outputs": [
    {
     "data": {
      "text/plain": [
       "0.1240901248353401"
      ]
     },
     "execution_count": 21,
     "metadata": {},
     "output_type": "execute_result"
    }
   ],
   "source": [
    "# SD of mean correlation for full-field stimulation\n",
    "np.std(corr_df[(corr_df['stimulus']=='full-field') & np.in1d(corr_df['type'],['bulbs-bulbs', 'bulbs-soma', 'tips-bulbs',\n",
    "       'tips-soma', 'tips-tips'])]['correlation'].values)"
   ]
  },
  {
   "cell_type": "code",
   "execution_count": 22,
   "metadata": {},
   "outputs": [
    {
     "data": {
      "image/png": "[encoded data removed]",
      "text/plain": [
       "<Figure size 226.772x113.386 with 1 Axes>"
      ]
     },
     "metadata": {},
     "output_type": "display_data"
    }
   ],
   "source": [
    "sns_styleset()\n",
    "with matplotlib.rc_context({\"lines.linewidth\": 0.7}):\n",
    "    plt.figure(figsize=(8/2.54,4/2.54))\n",
    "    ax=sns.pointplot(data=corr_df,x='type',y='correlation',hue='stimulus',order=['tips-tips','tips-bulbs','bulbs-bulbs','bulbs-tip mean','bulbs-soma'], join=False, palette=['0.5','0.'])\n",
    "    ax.spines['left'].set_position(('outward',3))\n",
    "    plt.xticks([0,1,2,3,4], labels=['Tips-tips','Tips-bulbs','Bulbs-bulbs','Bulbs-tip mean','Bulbs-soma'], rotation=45)\n",
    "    plt.yticks([0,0.2,0.4,0.6,0.8,1.0])\n",
    "    plt.xlabel('')\n",
    "    plt.ylabel('Correlation')\n",
    "    plt.ylim(0,1)\n",
    "    legend=plt.legend()\n",
    "    sns.despine()\n",
    "#     plt.savefig('./figures/Fig8G_HC_model_corr_average.svg',bbox_inches='tight',dpi=300)\n",
    "plt.show()"
   ]
  },
  {
   "cell_type": "code",
   "execution_count": null,
   "metadata": {
    "code_folding": [],
    "scrolled": true
   },
   "outputs": [],
   "source": [
    "# print all group means and sd\n",
    "ax = sns.pointplot(data=corr_df,x='type',y='correlation',hue='stimulus',order=['tips-tips','tips-bulbs','bulbs-bulbs','bulbs-tip mean','bulbs-soma'], join=False, palette=['0.5','0.'], ci='sd')\n",
    "for l in ax.lines:\n",
    "    print(l.get_data(), np.mean(l.get_data()[1]), (l.get_data()[1][1]-l.get_data()[1][0])/2)"
   ]
  },
  {
   "cell_type": "code",
   "execution_count": null,
   "metadata": {},
   "outputs": [],
   "source": [
    "# print all group means\n",
    "for t in np.unique(corr_df['type']):\n",
    "    for stim in np.unique(corr_df['stimulus']):\n",
    "        print(stim, t, np.mean(corr_df[(corr_df['stimulus']==stim)&(corr_df['type']==t)]['correlation'].values))"
   ]
  },
  {
   "cell_type": "code",
   "execution_count": 25,
   "metadata": {},
   "outputs": [],
   "source": [
    "corr_df_copy = corr_df.copy()\n",
    "corr_df_copy['stim2'] = 'Bulbs, full-field'\n",
    "corr_df_copy.loc[corr_df_copy['stimulus'] == 'checkerboard', 'stim2'] = 'Bulbs, checkerboard'\n",
    "corr_df_no_bulbs_copy = corr_df_no_bulbs.copy()\n",
    "corr_df_no_bulbs_copy['stim2'] = 'No bulbs, full-field'\n",
    "corr_df_no_bulbs_copy.loc[corr_df_no_bulbs_copy['stimulus'] == 'checkerboard', 'stim2'] = 'No bulbs, checkerboard'\n",
    "corr_df_big_bulbs_copy = corr_df_big_bulbs.copy()\n",
    "corr_df_big_bulbs_copy['stim2'] = 'Big bulbs, full-field'\n",
    "corr_df_big_bulbs_copy.loc[corr_df_big_bulbs_copy['stimulus'] == 'checkerboard', 'stim2'] = 'Big bulbs, checkerboard'\n",
    "corr_df_joined_bulb_dia = pd.concat([corr_df_copy, corr_df_no_bulbs_copy, corr_df_big_bulbs_copy])"
   ]
  },
  {
   "cell_type": "code",
   "execution_count": 26,
   "metadata": {},
   "outputs": [
    {
     "data": {
      "image/png": "[encoded data removed]",
      "text/plain": [
       "<Figure size 226.772x113.386 with 1 Axes>"
      ]
     },
     "metadata": {},
     "output_type": "display_data"
    }
   ],
   "source": [
    "sns_styleset()\n",
    "with matplotlib.rc_context({\"lines.linewidth\": 0.7}):\n",
    "    plt.figure(figsize=(8/2.54,4/2.54))\n",
    "    ax=sns.pointplot(data=corr_df_joined_bulb_dia,x='type',y='correlation',hue='stim2',\n",
    "                     order=['tips-tips','tips-bulbs','bulbs-bulbs','bulbs-tip mean','bulbs-soma'],\n",
    "                     join=False, dodge=True, palette='Paired')\n",
    "    ax.spines['left'].set_position(('outward',3))\n",
    "    plt.xticks([0,1,2,3,4], labels=['Tips-tips','Tips-bulbs','Bulbs-bulbs','Bulbs-tip mean','Bulbs-soma'], rotation=45)\n",
    "    plt.ylabel('Correlation')\n",
    "    plt.yticks([0,0.2,0.4,0.6,0.8,1.0])\n",
    "    plt.xlabel('')\n",
    "    plt.ylim(0,1)\n",
    "    legend=plt.legend(loc=7,bbox_to_anchor=(1.7, 0.5))\n",
    "    sns.despine()\n",
    "#     plt.savefig('./figures/FigS4A_HC_model_corr_average_bulb_conditions.svg',bbox_inches='tight',dpi=300)\n",
    "plt.show()"
   ]
  },
  {
   "cell_type": "code",
   "execution_count": 28,
   "metadata": {},
   "outputs": [],
   "source": [
    "corr_df_copy = corr_df.copy()\n",
    "corr_df_copy['stim2'] = 'Original VGCC density at bulbs, full-field'\n",
    "corr_df_copy.loc[corr_df_copy['stimulus'] == 'checkerboard', 'stim2'] = 'Original VGCC density at bulbs, checkerboard'\n",
    "corr_df_chan5_copy = corr_df_chan5.copy()\n",
    "corr_df_chan5_copy['stim2'] = 'x5 VGCC density at bulbs, full-field'\n",
    "corr_df_chan5_copy.loc[corr_df_chan5_copy['stimulus'] == 'checkerboard', 'stim2'] = 'x5 VGCC density at bulbs, checkerboard'\n",
    "corr_df_chan10_copy = corr_df_chan10.copy()\n",
    "corr_df_chan10_copy['stim2'] = 'x10 VGCC density at bulbs, full-field'\n",
    "corr_df_chan10_copy.loc[corr_df_chan10_copy['stimulus'] == 'checkerboard', 'stim2'] = 'x10 VGCC density at bulbs, checkerboard'\n",
    "corr_df_joined_chan = pd.concat([corr_df_copy, corr_df_chan5_copy, corr_df_chan10_copy])"
   ]
  },
  {
   "cell_type": "code",
   "execution_count": 29,
   "metadata": {},
   "outputs": [
    {
     "data": {
      "image/png": "[encoded data removed]",
      "text/plain": [
       "<Figure size 226.772x113.386 with 1 Axes>"
      ]
     },
     "metadata": {},
     "output_type": "display_data"
    }
   ],
   "source": [
    "sns_styleset()\n",
    "with matplotlib.rc_context({\"lines.linewidth\": 0.7}):\n",
    "    plt.figure(figsize=(8/2.54,4/2.54))\n",
    "    ax=sns.pointplot(data=corr_df_joined_chan,x='type',y='correlation',hue='stim2',\n",
    "                     order=['tips-tips','tips-bulbs','bulbs-bulbs','bulbs-tip mean','bulbs-soma'],\n",
    "                     join=False, dodge=True, palette='Paired')\n",
    "    ax.spines['left'].set_position(('outward',3))\n",
    "    plt.xticks([0,1,2,3,4], labels=['Tips-tips','Tips-bulbs','Bulbs-bulbs','Bulbs-tip mean','Bulbs-soma'], rotation=45)\n",
    "    plt.ylabel('Correlation')\n",
    "    plt.yticks([0,0.2,0.4,0.6,0.8,1.0])\n",
    "    plt.xlabel('')\n",
    "    plt.ylim(0,1)\n",
    "    legend=plt.legend(loc=7,bbox_to_anchor=(2.3, 0.5))\n",
    "    sns.despine()\n",
    "#     plt.savefig('./figures/FigS4B_HC_model_corr_average_bulb_channel_conditions.svg',bbox_inches='tight',dpi=300)\n",
    "plt.show()"
   ]
  },
  {
   "cell_type": "code",
   "execution_count": null,
   "metadata": {},
   "outputs": [],
   "source": []
  }
 ],
 "metadata": {
  "kernelspec": {
   "display_name": "Python 3",
   "language": "python",
   "name": "python3"
  },
  "language_info": {
   "codemirror_mode": {
    "name": "ipython",
    "version": 3
   },
   "file_extension": ".py",
   "mimetype": "text/x-python",
   "name": "python",
   "nbconvert_exporter": "python",
   "pygments_lexer": "ipython3",
   "version": "3.8.5"
  },
  "varInspector": {
   "cols": {
    "lenName": 16,
    "lenType": 16,
    "lenVar": 40
   },
   "kernels_config": {
    "python": {
     "delete_cmd_postfix": "",
     "delete_cmd_prefix": "del ",
     "library": "var_list.py",
     "varRefreshCmd": "print(var_dic_list())"
    },
    "r": {
     "delete_cmd_postfix": ") ",
     "delete_cmd_prefix": "rm(",
     "library": "var_list.r",
     "varRefreshCmd": "cat(var_dic_list()) "
    }
   },
   "types_to_exclude": [
    "module",
    "function",
    "builtin_function_or_method",
    "instance",
    "_Feature"
   ],
   "window_display": false
  }
 },
 "nbformat": 4,
 "nbformat_minor": 4
}
